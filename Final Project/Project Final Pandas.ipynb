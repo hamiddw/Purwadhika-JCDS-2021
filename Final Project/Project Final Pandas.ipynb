{
 "cells": [
  {
   "cell_type": "markdown",
   "metadata": {},
   "source": [
    "Link GSheet: https://docs.google.com/spreadsheets/d/1kd0Cp-aH18CEiuzydak3Q7UKzEp1_935fbygBj-6Jws/edit#gid=0  \n",
    "Link Kaggle: https://www.kaggle.com/arashnic/hr-analytics-job-change-of-data-scientists"
   ]
  },
  {
   "cell_type": "code",
   "execution_count": 1,
   "metadata": {
    "ExecuteTime": {
     "end_time": "2021-08-28T10:50:50.387476Z",
     "start_time": "2021-08-28T10:50:47.050775Z"
    }
   },
   "outputs": [],
   "source": [
    "# Library\n",
    "\n",
    "# Basic Statistic\n",
    "import pandas as pd\n",
    "import numpy as np\n",
    "\n",
    "# Visualization\n",
    "import matplotlib.pyplot as plt\n",
    "import seaborn as sns\n",
    "import statsmodels.api as sm\n",
    "\n",
    "# Statistics\n",
    "from scipy.stats import normaltest\n",
    "\n",
    "# Feature Engineering\n",
    "from sklearn.pipeline import Pipeline\n",
    "from sklearn.impute import SimpleImputer\n",
    "from sklearn.preprocessing import OneHotEncoder\n",
    "from sklearn.compose import ColumnTransformer\n",
    "import category_encoders as ce\n",
    "from sklearn.preprocessing import MinMaxScaler,StandardScaler,RobustScaler\n",
    "\n",
    "# Model Selection\n",
    "from sklearn.linear_model import LogisticRegression\n",
    "from sklearn.tree import DecisionTreeClassifier\n",
    "from sklearn.model_selection import GridSearchCV,StratifiedKFold,train_test_split\n",
    "from sklearn.metrics import classification_report\n",
    "from sklearn.neighbors import KNeighborsClassifier\n",
    "from sklearn.ensemble import RandomForestClassifier\n",
    "from sklearn.model_selection import cross_val_score\n",
    "from sklearn.metrics import roc_curve, roc_auc_score, plot_roc_curve, precision_recall_curve,average_precision_score,plot_precision_recall_curve\n",
    "\n",
    "# Feature Selection\n",
    "from sklearn.feature_selection import RFE\n",
    "\n",
    "# Imbalance Dataset\n",
    "from imblearn.pipeline import Pipeline\n",
    "from imblearn.over_sampling import SMOTE\n",
    "from imblearn.under_sampling import NearMiss\n",
    "\n",
    "# Ignore Warning\n",
    "import sys\n",
    "import warnings\n",
    "if not sys.warnoptions:\n",
    "    warnings.simplefilter(\"ignore\")"
   ]
  },
  {
   "cell_type": "markdown",
   "metadata": {},
   "source": [
    "# Problem Statement"
   ]
  },
  {
   "cell_type": "markdown",
   "metadata": {},
   "source": [
    "**1. Background Problem :**\n",
    "\n",
    "Company want to increase recruitment efficiency based on training\n",
    "\n",
    "**2. Problem Statement for Machine Learning :**\n",
    "\n",
    "Company wants to know which candidates are really wants to work for the company based on company training to be hired as data scientists\n",
    "\n",
    "**3. Action :**\n",
    "\n",
    "Focusing the recruitment for people who are selected by model ML and suitable with criteria based on analysis\n",
    "\n",
    "**4. Value / Goals :**\n",
    "\n",
    "Reduce the cost and time as well as the quality of training or planning the courses and categorization of candidates."
   ]
  },
  {
   "cell_type": "markdown",
   "metadata": {},
   "source": [
    "0 : Not looking for job change  \n",
    "1 : Looking for a job change\n",
    "\n",
    "**Metric Evaluation**\n",
    "\n",
    "Type 1 error : False Positive  \n",
    "Model predicts that candidate is looking for a job change while actually not  \n",
    "Consequences: loss of recruitment cost, time and resource\n",
    "\n",
    "Type 2 error : False Negative  \n",
    "Model predicts that candidate is not looking for a job change while actually he/she is  \n",
    "Consequences: loss of potential candidate  "
   ]
  },
  {
   "cell_type": "markdown",
   "metadata": {},
   "source": [
    "# Data Understanding"
   ]
  },
  {
   "cell_type": "code",
   "execution_count": 2,
   "metadata": {
    "ExecuteTime": {
     "end_time": "2021-08-28T10:50:50.636412Z",
     "start_time": "2021-08-28T10:50:50.393436Z"
    }
   },
   "outputs": [
    {
     "data": {
      "text/html": [
       "<div>\n",
       "<style scoped>\n",
       "    .dataframe tbody tr th:only-of-type {\n",
       "        vertical-align: middle;\n",
       "    }\n",
       "\n",
       "    .dataframe tbody tr th {\n",
       "        vertical-align: top;\n",
       "    }\n",
       "\n",
       "    .dataframe thead th {\n",
       "        text-align: right;\n",
       "    }\n",
       "</style>\n",
       "<table border=\"1\" class=\"dataframe\">\n",
       "  <thead>\n",
       "    <tr style=\"text-align: right;\">\n",
       "      <th></th>\n",
       "      <th>enrollee_id</th>\n",
       "      <th>city</th>\n",
       "      <th>city_development_index</th>\n",
       "      <th>gender</th>\n",
       "      <th>relevent_experience</th>\n",
       "      <th>enrolled_university</th>\n",
       "      <th>education_level</th>\n",
       "      <th>major_discipline</th>\n",
       "      <th>experience</th>\n",
       "      <th>company_size</th>\n",
       "      <th>company_type</th>\n",
       "      <th>last_new_job</th>\n",
       "      <th>training_hours</th>\n",
       "      <th>target</th>\n",
       "    </tr>\n",
       "  </thead>\n",
       "  <tbody>\n",
       "    <tr>\n",
       "      <th>0</th>\n",
       "      <td>8949</td>\n",
       "      <td>city_103</td>\n",
       "      <td>0.920</td>\n",
       "      <td>Male</td>\n",
       "      <td>Has relevent experience</td>\n",
       "      <td>no_enrollment</td>\n",
       "      <td>Graduate</td>\n",
       "      <td>STEM</td>\n",
       "      <td>&gt;20</td>\n",
       "      <td>NaN</td>\n",
       "      <td>NaN</td>\n",
       "      <td>1</td>\n",
       "      <td>36</td>\n",
       "      <td>1.0</td>\n",
       "    </tr>\n",
       "    <tr>\n",
       "      <th>1</th>\n",
       "      <td>29725</td>\n",
       "      <td>city_40</td>\n",
       "      <td>0.776</td>\n",
       "      <td>Male</td>\n",
       "      <td>No relevent experience</td>\n",
       "      <td>no_enrollment</td>\n",
       "      <td>Graduate</td>\n",
       "      <td>STEM</td>\n",
       "      <td>15</td>\n",
       "      <td>50-99</td>\n",
       "      <td>Pvt Ltd</td>\n",
       "      <td>&gt;4</td>\n",
       "      <td>47</td>\n",
       "      <td>0.0</td>\n",
       "    </tr>\n",
       "    <tr>\n",
       "      <th>2</th>\n",
       "      <td>11561</td>\n",
       "      <td>city_21</td>\n",
       "      <td>0.624</td>\n",
       "      <td>NaN</td>\n",
       "      <td>No relevent experience</td>\n",
       "      <td>Full time course</td>\n",
       "      <td>Graduate</td>\n",
       "      <td>STEM</td>\n",
       "      <td>5</td>\n",
       "      <td>NaN</td>\n",
       "      <td>NaN</td>\n",
       "      <td>never</td>\n",
       "      <td>83</td>\n",
       "      <td>0.0</td>\n",
       "    </tr>\n",
       "    <tr>\n",
       "      <th>3</th>\n",
       "      <td>33241</td>\n",
       "      <td>city_115</td>\n",
       "      <td>0.789</td>\n",
       "      <td>NaN</td>\n",
       "      <td>No relevent experience</td>\n",
       "      <td>NaN</td>\n",
       "      <td>Graduate</td>\n",
       "      <td>Business Degree</td>\n",
       "      <td>&lt;1</td>\n",
       "      <td>NaN</td>\n",
       "      <td>Pvt Ltd</td>\n",
       "      <td>never</td>\n",
       "      <td>52</td>\n",
       "      <td>1.0</td>\n",
       "    </tr>\n",
       "    <tr>\n",
       "      <th>4</th>\n",
       "      <td>666</td>\n",
       "      <td>city_162</td>\n",
       "      <td>0.767</td>\n",
       "      <td>Male</td>\n",
       "      <td>Has relevent experience</td>\n",
       "      <td>no_enrollment</td>\n",
       "      <td>Masters</td>\n",
       "      <td>STEM</td>\n",
       "      <td>&gt;20</td>\n",
       "      <td>50-99</td>\n",
       "      <td>Funded Startup</td>\n",
       "      <td>4</td>\n",
       "      <td>8</td>\n",
       "      <td>0.0</td>\n",
       "    </tr>\n",
       "    <tr>\n",
       "      <th>...</th>\n",
       "      <td>...</td>\n",
       "      <td>...</td>\n",
       "      <td>...</td>\n",
       "      <td>...</td>\n",
       "      <td>...</td>\n",
       "      <td>...</td>\n",
       "      <td>...</td>\n",
       "      <td>...</td>\n",
       "      <td>...</td>\n",
       "      <td>...</td>\n",
       "      <td>...</td>\n",
       "      <td>...</td>\n",
       "      <td>...</td>\n",
       "      <td>...</td>\n",
       "    </tr>\n",
       "    <tr>\n",
       "      <th>19153</th>\n",
       "      <td>7386</td>\n",
       "      <td>city_173</td>\n",
       "      <td>0.878</td>\n",
       "      <td>Male</td>\n",
       "      <td>No relevent experience</td>\n",
       "      <td>no_enrollment</td>\n",
       "      <td>Graduate</td>\n",
       "      <td>Humanities</td>\n",
       "      <td>14</td>\n",
       "      <td>NaN</td>\n",
       "      <td>NaN</td>\n",
       "      <td>1</td>\n",
       "      <td>42</td>\n",
       "      <td>1.0</td>\n",
       "    </tr>\n",
       "    <tr>\n",
       "      <th>19154</th>\n",
       "      <td>31398</td>\n",
       "      <td>city_103</td>\n",
       "      <td>0.920</td>\n",
       "      <td>Male</td>\n",
       "      <td>Has relevent experience</td>\n",
       "      <td>no_enrollment</td>\n",
       "      <td>Graduate</td>\n",
       "      <td>STEM</td>\n",
       "      <td>14</td>\n",
       "      <td>NaN</td>\n",
       "      <td>NaN</td>\n",
       "      <td>4</td>\n",
       "      <td>52</td>\n",
       "      <td>1.0</td>\n",
       "    </tr>\n",
       "    <tr>\n",
       "      <th>19155</th>\n",
       "      <td>24576</td>\n",
       "      <td>city_103</td>\n",
       "      <td>0.920</td>\n",
       "      <td>Male</td>\n",
       "      <td>Has relevent experience</td>\n",
       "      <td>no_enrollment</td>\n",
       "      <td>Graduate</td>\n",
       "      <td>STEM</td>\n",
       "      <td>&gt;20</td>\n",
       "      <td>50-99</td>\n",
       "      <td>Pvt Ltd</td>\n",
       "      <td>4</td>\n",
       "      <td>44</td>\n",
       "      <td>0.0</td>\n",
       "    </tr>\n",
       "    <tr>\n",
       "      <th>19156</th>\n",
       "      <td>5756</td>\n",
       "      <td>city_65</td>\n",
       "      <td>0.802</td>\n",
       "      <td>Male</td>\n",
       "      <td>Has relevent experience</td>\n",
       "      <td>no_enrollment</td>\n",
       "      <td>High School</td>\n",
       "      <td>NaN</td>\n",
       "      <td>&lt;1</td>\n",
       "      <td>500-999</td>\n",
       "      <td>Pvt Ltd</td>\n",
       "      <td>2</td>\n",
       "      <td>97</td>\n",
       "      <td>0.0</td>\n",
       "    </tr>\n",
       "    <tr>\n",
       "      <th>19157</th>\n",
       "      <td>23834</td>\n",
       "      <td>city_67</td>\n",
       "      <td>0.855</td>\n",
       "      <td>NaN</td>\n",
       "      <td>No relevent experience</td>\n",
       "      <td>no_enrollment</td>\n",
       "      <td>Primary School</td>\n",
       "      <td>NaN</td>\n",
       "      <td>2</td>\n",
       "      <td>NaN</td>\n",
       "      <td>NaN</td>\n",
       "      <td>1</td>\n",
       "      <td>127</td>\n",
       "      <td>0.0</td>\n",
       "    </tr>\n",
       "  </tbody>\n",
       "</table>\n",
       "<p>19158 rows × 14 columns</p>\n",
       "</div>"
      ],
      "text/plain": [
       "       enrollee_id      city  city_development_index gender  \\\n",
       "0             8949  city_103                   0.920   Male   \n",
       "1            29725   city_40                   0.776   Male   \n",
       "2            11561   city_21                   0.624    NaN   \n",
       "3            33241  city_115                   0.789    NaN   \n",
       "4              666  city_162                   0.767   Male   \n",
       "...            ...       ...                     ...    ...   \n",
       "19153         7386  city_173                   0.878   Male   \n",
       "19154        31398  city_103                   0.920   Male   \n",
       "19155        24576  city_103                   0.920   Male   \n",
       "19156         5756   city_65                   0.802   Male   \n",
       "19157        23834   city_67                   0.855    NaN   \n",
       "\n",
       "           relevent_experience enrolled_university education_level  \\\n",
       "0      Has relevent experience       no_enrollment        Graduate   \n",
       "1       No relevent experience       no_enrollment        Graduate   \n",
       "2       No relevent experience    Full time course        Graduate   \n",
       "3       No relevent experience                 NaN        Graduate   \n",
       "4      Has relevent experience       no_enrollment         Masters   \n",
       "...                        ...                 ...             ...   \n",
       "19153   No relevent experience       no_enrollment        Graduate   \n",
       "19154  Has relevent experience       no_enrollment        Graduate   \n",
       "19155  Has relevent experience       no_enrollment        Graduate   \n",
       "19156  Has relevent experience       no_enrollment     High School   \n",
       "19157   No relevent experience       no_enrollment  Primary School   \n",
       "\n",
       "      major_discipline experience company_size    company_type last_new_job  \\\n",
       "0                 STEM        >20          NaN             NaN            1   \n",
       "1                 STEM         15        50-99         Pvt Ltd           >4   \n",
       "2                 STEM          5          NaN             NaN        never   \n",
       "3      Business Degree         <1          NaN         Pvt Ltd        never   \n",
       "4                 STEM        >20        50-99  Funded Startup            4   \n",
       "...                ...        ...          ...             ...          ...   \n",
       "19153       Humanities         14          NaN             NaN            1   \n",
       "19154             STEM         14          NaN             NaN            4   \n",
       "19155             STEM        >20        50-99         Pvt Ltd            4   \n",
       "19156              NaN         <1      500-999         Pvt Ltd            2   \n",
       "19157              NaN          2          NaN             NaN            1   \n",
       "\n",
       "       training_hours  target  \n",
       "0                  36     1.0  \n",
       "1                  47     0.0  \n",
       "2                  83     0.0  \n",
       "3                  52     1.0  \n",
       "4                   8     0.0  \n",
       "...               ...     ...  \n",
       "19153              42     1.0  \n",
       "19154              52     1.0  \n",
       "19155              44     0.0  \n",
       "19156              97     0.0  \n",
       "19157             127     0.0  \n",
       "\n",
       "[19158 rows x 14 columns]"
      ]
     },
     "execution_count": 2,
     "metadata": {},
     "output_type": "execute_result"
    }
   ],
   "source": [
    "#Load Dataset\n",
    "df = pd.read_csv(\"aug_train.csv\")\n",
    "df"
   ]
  },
  {
   "cell_type": "markdown",
   "metadata": {},
   "source": [
    "***\n",
    "* enrollee_id : Unique ID for candidate [numeric]\n",
    "* city: City code (unknown) [categorical]\n",
    "* city_ development _index (CDI): Developement index of the city (scaled). Ranks cities according to their Infrastructure, Waste Management, Health, Education, and City Product [numeric]\n",
    "* gender: Gender of candidate [categorical]\n",
    "* relevent_experience: Relevant experience of candidate [categorical ordinal]\n",
    "* enrolled_university: Type of University course enrolled if any [categorical]\n",
    "* education_level: Education level of candidate [categorical ordinal]\n",
    "* major_discipline :Education major discipline of candidate [categorical]\n",
    "* experience: Candidate total experience in years [categorical ordinal]\n",
    "* company_size: No of employees in current employer's company [categorical ordinal]\n",
    "* company_type : Type of current employer [categorical]\n",
    "* lastnewjob: Difference in years between previous job and current job [categorical ordinal]\n",
    "* training_hours: training hours completed [numeric]\n",
    "* target: Candidates who decide looking for a job change or not [categorical]"
   ]
  },
  {
   "cell_type": "code",
   "execution_count": 3,
   "metadata": {
    "ExecuteTime": {
     "end_time": "2021-08-28T10:50:50.691034Z",
     "start_time": "2021-08-28T10:50:50.643111Z"
    }
   },
   "outputs": [
    {
     "name": "stdout",
     "output_type": "stream",
     "text": [
      "<class 'pandas.core.frame.DataFrame'>\n",
      "RangeIndex: 19158 entries, 0 to 19157\n",
      "Data columns (total 14 columns):\n",
      " #   Column                  Non-Null Count  Dtype  \n",
      "---  ------                  --------------  -----  \n",
      " 0   enrollee_id             19158 non-null  int64  \n",
      " 1   city                    19158 non-null  object \n",
      " 2   city_development_index  19158 non-null  float64\n",
      " 3   gender                  14650 non-null  object \n",
      " 4   relevent_experience     19158 non-null  object \n",
      " 5   enrolled_university     18772 non-null  object \n",
      " 6   education_level         18698 non-null  object \n",
      " 7   major_discipline        16345 non-null  object \n",
      " 8   experience              19093 non-null  object \n",
      " 9   company_size            13220 non-null  object \n",
      " 10  company_type            13018 non-null  object \n",
      " 11  last_new_job            18735 non-null  object \n",
      " 12  training_hours          19158 non-null  int64  \n",
      " 13  target                  19158 non-null  float64\n",
      "dtypes: float64(2), int64(2), object(10)\n",
      "memory usage: 2.0+ MB\n"
     ]
    }
   ],
   "source": [
    "# Count and Datatype for each Column\n",
    "df.info()"
   ]
  },
  {
   "cell_type": "code",
   "execution_count": 4,
   "metadata": {
    "ExecuteTime": {
     "end_time": "2021-08-28T10:50:50.739155Z",
     "start_time": "2021-08-28T10:50:50.694643Z"
    }
   },
   "outputs": [
    {
     "data": {
      "text/html": [
       "<div>\n",
       "<style scoped>\n",
       "    .dataframe tbody tr th:only-of-type {\n",
       "        vertical-align: middle;\n",
       "    }\n",
       "\n",
       "    .dataframe tbody tr th {\n",
       "        vertical-align: top;\n",
       "    }\n",
       "\n",
       "    .dataframe thead th {\n",
       "        text-align: right;\n",
       "    }\n",
       "</style>\n",
       "<table border=\"1\" class=\"dataframe\">\n",
       "  <thead>\n",
       "    <tr style=\"text-align: right;\">\n",
       "      <th></th>\n",
       "      <th>city_development_index</th>\n",
       "      <th>training_hours</th>\n",
       "    </tr>\n",
       "  </thead>\n",
       "  <tbody>\n",
       "    <tr>\n",
       "      <th>count</th>\n",
       "      <td>19158.000000</td>\n",
       "      <td>19158.000000</td>\n",
       "    </tr>\n",
       "    <tr>\n",
       "      <th>mean</th>\n",
       "      <td>0.828848</td>\n",
       "      <td>65.366896</td>\n",
       "    </tr>\n",
       "    <tr>\n",
       "      <th>std</th>\n",
       "      <td>0.123362</td>\n",
       "      <td>60.058462</td>\n",
       "    </tr>\n",
       "    <tr>\n",
       "      <th>min</th>\n",
       "      <td>0.448000</td>\n",
       "      <td>1.000000</td>\n",
       "    </tr>\n",
       "    <tr>\n",
       "      <th>25%</th>\n",
       "      <td>0.740000</td>\n",
       "      <td>23.000000</td>\n",
       "    </tr>\n",
       "    <tr>\n",
       "      <th>50%</th>\n",
       "      <td>0.903000</td>\n",
       "      <td>47.000000</td>\n",
       "    </tr>\n",
       "    <tr>\n",
       "      <th>75%</th>\n",
       "      <td>0.920000</td>\n",
       "      <td>88.000000</td>\n",
       "    </tr>\n",
       "    <tr>\n",
       "      <th>max</th>\n",
       "      <td>0.949000</td>\n",
       "      <td>336.000000</td>\n",
       "    </tr>\n",
       "  </tbody>\n",
       "</table>\n",
       "</div>"
      ],
      "text/plain": [
       "       city_development_index  training_hours\n",
       "count            19158.000000    19158.000000\n",
       "mean                 0.828848       65.366896\n",
       "std                  0.123362       60.058462\n",
       "min                  0.448000        1.000000\n",
       "25%                  0.740000       23.000000\n",
       "50%                  0.903000       47.000000\n",
       "75%                  0.920000       88.000000\n",
       "max                  0.949000      336.000000"
      ]
     },
     "execution_count": 4,
     "metadata": {},
     "output_type": "execute_result"
    }
   ],
   "source": [
    "# Describing Numerical Data\n",
    "df.describe().drop(columns=['enrollee_id','target'])"
   ]
  },
  {
   "cell_type": "code",
   "execution_count": 5,
   "metadata": {
    "ExecuteTime": {
     "end_time": "2021-08-28T10:50:50.863275Z",
     "start_time": "2021-08-28T10:50:50.744102Z"
    }
   },
   "outputs": [
    {
     "data": {
      "text/html": [
       "<div>\n",
       "<style scoped>\n",
       "    .dataframe tbody tr th:only-of-type {\n",
       "        vertical-align: middle;\n",
       "    }\n",
       "\n",
       "    .dataframe tbody tr th {\n",
       "        vertical-align: top;\n",
       "    }\n",
       "\n",
       "    .dataframe thead th {\n",
       "        text-align: right;\n",
       "    }\n",
       "</style>\n",
       "<table border=\"1\" class=\"dataframe\">\n",
       "  <thead>\n",
       "    <tr style=\"text-align: right;\">\n",
       "      <th></th>\n",
       "      <th>city</th>\n",
       "      <th>gender</th>\n",
       "      <th>relevent_experience</th>\n",
       "      <th>enrolled_university</th>\n",
       "      <th>education_level</th>\n",
       "      <th>major_discipline</th>\n",
       "      <th>experience</th>\n",
       "      <th>company_size</th>\n",
       "      <th>company_type</th>\n",
       "      <th>last_new_job</th>\n",
       "    </tr>\n",
       "  </thead>\n",
       "  <tbody>\n",
       "    <tr>\n",
       "      <th>count</th>\n",
       "      <td>19158</td>\n",
       "      <td>14650</td>\n",
       "      <td>19158</td>\n",
       "      <td>18772</td>\n",
       "      <td>18698</td>\n",
       "      <td>16345</td>\n",
       "      <td>19093</td>\n",
       "      <td>13220</td>\n",
       "      <td>13018</td>\n",
       "      <td>18735</td>\n",
       "    </tr>\n",
       "    <tr>\n",
       "      <th>unique</th>\n",
       "      <td>123</td>\n",
       "      <td>3</td>\n",
       "      <td>2</td>\n",
       "      <td>3</td>\n",
       "      <td>5</td>\n",
       "      <td>6</td>\n",
       "      <td>22</td>\n",
       "      <td>8</td>\n",
       "      <td>6</td>\n",
       "      <td>6</td>\n",
       "    </tr>\n",
       "    <tr>\n",
       "      <th>top</th>\n",
       "      <td>city_103</td>\n",
       "      <td>Male</td>\n",
       "      <td>Has relevent experience</td>\n",
       "      <td>no_enrollment</td>\n",
       "      <td>Graduate</td>\n",
       "      <td>STEM</td>\n",
       "      <td>&gt;20</td>\n",
       "      <td>50-99</td>\n",
       "      <td>Pvt Ltd</td>\n",
       "      <td>1</td>\n",
       "    </tr>\n",
       "    <tr>\n",
       "      <th>freq</th>\n",
       "      <td>4355</td>\n",
       "      <td>13221</td>\n",
       "      <td>13792</td>\n",
       "      <td>13817</td>\n",
       "      <td>11598</td>\n",
       "      <td>14492</td>\n",
       "      <td>3286</td>\n",
       "      <td>3083</td>\n",
       "      <td>9817</td>\n",
       "      <td>8040</td>\n",
       "    </tr>\n",
       "  </tbody>\n",
       "</table>\n",
       "</div>"
      ],
      "text/plain": [
       "            city gender      relevent_experience enrolled_university  \\\n",
       "count      19158  14650                    19158               18772   \n",
       "unique       123      3                        2                   3   \n",
       "top     city_103   Male  Has relevent experience       no_enrollment   \n",
       "freq        4355  13221                    13792               13817   \n",
       "\n",
       "       education_level major_discipline experience company_size company_type  \\\n",
       "count            18698            16345      19093        13220        13018   \n",
       "unique               5                6         22            8            6   \n",
       "top           Graduate             STEM        >20        50-99      Pvt Ltd   \n",
       "freq             11598            14492       3286         3083         9817   \n",
       "\n",
       "       last_new_job  \n",
       "count         18735  \n",
       "unique            6  \n",
       "top               1  \n",
       "freq           8040  "
      ]
     },
     "execution_count": 5,
     "metadata": {},
     "output_type": "execute_result"
    }
   ],
   "source": [
    "# Describing non Numerical Data\n",
    "df.describe(include=object)"
   ]
  },
  {
   "cell_type": "markdown",
   "metadata": {},
   "source": [
    "# Exploratory Data Analysis (EDA)"
   ]
  },
  {
   "cell_type": "markdown",
   "metadata": {},
   "source": [
    "## Data Distribution"
   ]
  },
  {
   "cell_type": "code",
   "execution_count": 6,
   "metadata": {
    "ExecuteTime": {
     "end_time": "2021-08-28T10:50:52.602982Z",
     "start_time": "2021-08-28T10:50:50.865949Z"
    }
   },
   "outputs": [
    {
     "data": {
      "text/plain": [
       "Text(0.5, 1.0, 'Training Hours Histogram')"
      ]
     },
     "execution_count": 6,
     "metadata": {},
     "output_type": "execute_result"
    },
    {
     "data": {
      "image/png": "[encoded data removed]",
      "text/plain": [
       "<Figure size 1224x360 with 2 Axes>"
      ]
     },
     "metadata": {
      "needs_background": "light"
     },
     "output_type": "display_data"
    }
   ],
   "source": [
    "# Distribution of numerical data\n",
    "plt.figure(figsize=(17,(100)/20))\n",
    "\n",
    "plt.subplot(121)\n",
    "sns.histplot(df[\"city_development_index\"],kde=True)\n",
    "plt.title(\"CDI Histogram\",fontsize=20)\n",
    "\n",
    "plt.subplot(122)\n",
    "sns.histplot(df[\"training_hours\"],kde=True)\n",
    "plt.title(\"Training Hours Histogram\",fontsize=20)"
   ]
  },
  {
   "cell_type": "code",
   "execution_count": 7,
   "metadata": {
    "ExecuteTime": {
     "end_time": "2021-08-28T10:50:52.653039Z",
     "start_time": "2021-08-28T10:50:52.610914Z"
    }
   },
   "outputs": [
    {
     "name": "stdout",
     "output_type": "stream",
     "text": [
      "city_development_index : Not normal distribution\n",
      "training_hours : Not normal distribution\n"
     ]
    }
   ],
   "source": [
    "# Distribution normality test\n",
    "numerical_feature = ['city_development_index','training_hours']\n",
    "\n",
    "for i in numerical_feature:\n",
    "    stats, pval = normaltest(df[i])\n",
    "    if pval > 0.05:\n",
    "        print(i, ': Normal distribution')\n",
    "    else:\n",
    "        print(i, ': Not normal distribution')"
   ]
  },
  {
   "cell_type": "markdown",
   "metadata": {},
   "source": [
    "**Distribution data of CDI and Training hours is not normal**"
   ]
  },
  {
   "cell_type": "markdown",
   "metadata": {},
   "source": [
    "## Identify Missing Values"
   ]
  },
  {
   "cell_type": "code",
   "execution_count": 8,
   "metadata": {},
   "outputs": [
    {
     "data": {
      "image/png": "[encoded data removed]",
      "text/plain": [
       "<Figure size 1296x432 with 2 Axes>"
      ]
     },
     "metadata": {
      "needs_background": "light"
     },
     "output_type": "display_data"
    }
   ],
   "source": [
    "plt.figure(figsize=(18,6))\n",
    "sns.heatmap(df.isna())\n",
    "plt.xlabel(\"Feature\",fontsize=20)\n",
    "plt.xticks(rotation=45)\n",
    "plt.ylabel(\"Index\",fontsize=20)\n",
    "plt.title(\"Missing Values\",fontsize=25)\n",
    "plt.show()"
   ]
  },
  {
   "cell_type": "code",
   "execution_count": 9,
   "metadata": {},
   "outputs": [
    {
     "data": {
      "image/png": "[encoded data removed]",
      "text/plain": [
       "<Figure size 1080x360 with 1 Axes>"
      ]
     },
     "metadata": {
      "needs_background": "light"
     },
     "output_type": "display_data"
    }
   ],
   "source": [
    "# Missing value percentage per column\n",
    "PMV = pd.DataFrame(round(df.isna().sum()/len(df)*100,2))\n",
    "PMV = PMV.rename(columns={0:\"Percent\"})\n",
    "\n",
    "plt.figure(figsize=(15,5))\n",
    "plt.title(\"Percent of Missing Values\")\n",
    "ax = sns.barplot(data=PMV,x=PMV.index,y=\"Percent\")\n",
    "plt.xticks(rotation=45)\n",
    "bound=ax.get_xbound()\n",
    "ax=plt.gca()\n",
    "ax.plot(bound,[5,5],'--',c='k')\n",
    "ax.text(bound[1],5,'5%', va='center', fontdict={'size':10})\n",
    "for p in ax.patches:\n",
    "    ax.annotate(f'\\n{p.get_height()}', (p.get_x()+0.4, (p.get_height())), ha='center', color='black', size=11)"
   ]
  },
  {
   "cell_type": "markdown",
   "metadata": {},
   "source": [
    "* Missing value < 5% : Fill with mode\n",
    "* Missing Value >= 5% : Fill with new constant"
   ]
  },
  {
   "cell_type": "markdown",
   "metadata": {},
   "source": [
    "## Identify Data Imbalance"
   ]
  },
  {
   "cell_type": "code",
   "execution_count": 10,
   "metadata": {
    "ExecuteTime": {
     "end_time": "2021-08-28T10:50:54.161989Z",
     "start_time": "2021-08-28T10:50:53.560874Z"
    }
   },
   "outputs": [
    {
     "data": {
      "image/png": "[encoded data removed]",
      "text/plain": [
       "<Figure size 1224x360 with 2 Axes>"
      ]
     },
     "metadata": {
      "needs_background": "light"
     },
     "output_type": "display_data"
    }
   ],
   "source": [
    "plt.figure(figsize=(17,(100)/20))\n",
    "\n",
    "plt.subplot(121)\n",
    "plt.pie(round(df['target'].value_counts()/len(df)*100,2),labels=list(df['target'].value_counts().index),autopct = \"%.2f%%\",explode = (0,0.1))\n",
    "plt.axis(\"equal\")\n",
    "plt.title(\"Target Imbalance Ratio\",size=15)\n",
    "\n",
    "plt.subplot(122)\n",
    "ax = sns.countplot(data=df, x='target')\n",
    "plt.title(\"Barplot Target Label\", fontsize=15)\n",
    "for p in ax.patches:\n",
    "    ax.annotate(f'\\n{p.get_height()}', (p.get_x()+0.4, p.get_height()), ha='center', va='top', color='white', size=12)"
   ]
  },
  {
   "cell_type": "markdown",
   "metadata": {},
   "source": [
    "**Target data is imbalance**"
   ]
  },
  {
   "cell_type": "markdown",
   "metadata": {},
   "source": [
    "## Preprocessing"
   ]
  },
  {
   "cell_type": "code",
   "execution_count": 11,
   "metadata": {
    "ExecuteTime": {
     "end_time": "2021-08-28T10:50:54.192716Z",
     "start_time": "2021-08-28T10:50:54.165057Z"
    }
   },
   "outputs": [],
   "source": [
    "# # gender\n",
    "# df['gender'] = df['gender'].fillna('Not provided')\n",
    "# df['gender'].value_counts()"
   ]
  },
  {
   "cell_type": "code",
   "execution_count": 12,
   "metadata": {
    "ExecuteTime": {
     "end_time": "2021-08-28T10:50:54.244441Z",
     "start_time": "2021-08-28T10:50:54.198788Z"
    }
   },
   "outputs": [],
   "source": [
    "# # enrolled_university\n",
    "# df['enrolled_university'] = df['enrolled_university'].fillna(str(df['enrolled_university'].mode()[0]))\n",
    "# df['enrolled_university'].value_counts()"
   ]
  },
  {
   "cell_type": "code",
   "execution_count": 13,
   "metadata": {
    "ExecuteTime": {
     "end_time": "2021-08-28T10:50:54.283397Z",
     "start_time": "2021-08-28T10:50:54.247859Z"
    }
   },
   "outputs": [],
   "source": [
    "# # education_level\n",
    "# df['education_level'] = df['education_level'].fillna(str(df['education_level'].mode()[0]))\n",
    "# df['education_level'].value_counts()"
   ]
  },
  {
   "cell_type": "code",
   "execution_count": 14,
   "metadata": {
    "ExecuteTime": {
     "end_time": "2021-08-28T10:50:54.314257Z",
     "start_time": "2021-08-28T10:50:54.291914Z"
    }
   },
   "outputs": [],
   "source": [
    "# # major_discipline\n",
    "# df['major_discipline'] = df['major_discipline'].fillna('Not provided')\n",
    "# df['major_discipline'].value_counts()"
   ]
  },
  {
   "cell_type": "code",
   "execution_count": 15,
   "metadata": {
    "ExecuteTime": {
     "end_time": "2021-08-28T10:50:54.349743Z",
     "start_time": "2021-08-28T10:50:54.317317Z"
    }
   },
   "outputs": [],
   "source": [
    "# # experience\n",
    "# df['experience'] = df['experience'].fillna(str(df['experience'].mode()[0]))\n",
    "# df['experience'].value_counts()"
   ]
  },
  {
   "cell_type": "code",
   "execution_count": 16,
   "metadata": {
    "ExecuteTime": {
     "end_time": "2021-08-28T10:50:54.387713Z",
     "start_time": "2021-08-28T10:50:54.360457Z"
    }
   },
   "outputs": [],
   "source": [
    "# # company_size \n",
    "# df['company_size'] = df['company_size'].fillna('Not provided')\n",
    "# df['company_size'].value_counts()"
   ]
  },
  {
   "cell_type": "code",
   "execution_count": 17,
   "metadata": {
    "ExecuteTime": {
     "end_time": "2021-08-28T10:50:54.421790Z",
     "start_time": "2021-08-28T10:50:54.390797Z"
    }
   },
   "outputs": [],
   "source": [
    "# # company_type\n",
    "# df['company_type'] = df['company_type'].fillna('Not provided')\n",
    "# df['company_type'].value_counts()"
   ]
  },
  {
   "cell_type": "code",
   "execution_count": 18,
   "metadata": {
    "ExecuteTime": {
     "end_time": "2021-08-28T10:50:54.446640Z",
     "start_time": "2021-08-28T10:50:54.424650Z"
    }
   },
   "outputs": [],
   "source": [
    "# # last_new_job \n",
    "# df['last_new_job'] = df['last_new_job'].fillna(str(df['last_new_job'].mode()[0]))\n",
    "# df['last_new_job'].value_counts()"
   ]
  },
  {
   "cell_type": "code",
   "execution_count": 19,
   "metadata": {
    "ExecuteTime": {
     "end_time": "2021-08-28T10:50:52.813287Z",
     "start_time": "2021-08-28T10:50:52.726273Z"
    },
    "scrolled": true
   },
   "outputs": [
    {
     "name": "stdout",
     "output_type": "stream",
     "text": [
      "city \n",
      " city_103    4355\n",
      "city_21     2702\n",
      "city_16     1533\n",
      "city_114    1336\n",
      "city_160     845\n",
      "            ... \n",
      "city_121       3\n",
      "city_129       3\n",
      "city_111       3\n",
      "city_140       1\n",
      "city_171       1\n",
      "Name: city, Length: 123, dtype: int64 \n",
      "\n",
      "gender \n",
      " Male      13221\n",
      "Female     1238\n",
      "Other       191\n",
      "Name: gender, dtype: int64 \n",
      "\n",
      "relevent_experience \n",
      " Has relevent experience    13792\n",
      "No relevent experience      5366\n",
      "Name: relevent_experience, dtype: int64 \n",
      "\n",
      "enrolled_university \n",
      " no_enrollment       13817\n",
      "Full time course     3757\n",
      "Part time course     1198\n",
      "Name: enrolled_university, dtype: int64 \n",
      "\n",
      "education_level \n",
      " Graduate          11598\n",
      "Masters            4361\n",
      "High School        2017\n",
      "Phd                 414\n",
      "Primary School      308\n",
      "Name: education_level, dtype: int64 \n",
      "\n",
      "major_discipline \n",
      " STEM               14492\n",
      "Humanities           669\n",
      "Other                381\n",
      "Business Degree      327\n",
      "Arts                 253\n",
      "No Major             223\n",
      "Name: major_discipline, dtype: int64 \n",
      "\n",
      "experience \n",
      " >20    3286\n",
      "5      1430\n",
      "4      1403\n",
      "3      1354\n",
      "6      1216\n",
      "2      1127\n",
      "7      1028\n",
      "10      985\n",
      "9       980\n",
      "8       802\n",
      "15      686\n",
      "11      664\n",
      "14      586\n",
      "1       549\n",
      "<1      522\n",
      "16      508\n",
      "12      494\n",
      "13      399\n",
      "17      342\n",
      "19      304\n",
      "18      280\n",
      "20      148\n",
      "Name: experience, dtype: int64 \n",
      "\n",
      "company_size \n",
      " 50-99        3083\n",
      "100-500      2571\n",
      "10000+       2019\n",
      "10/49        1471\n",
      "1000-4999    1328\n",
      "<10          1308\n",
      "500-999       877\n",
      "5000-9999     563\n",
      "Name: company_size, dtype: int64 \n",
      "\n",
      "company_type \n",
      " Pvt Ltd                9817\n",
      "Funded Startup         1001\n",
      "Public Sector           955\n",
      "Early Stage Startup     603\n",
      "NGO                     521\n",
      "Other                   121\n",
      "Name: company_type, dtype: int64 \n",
      "\n",
      "last_new_job \n",
      " 1        8040\n",
      ">4       3290\n",
      "2        2900\n",
      "never    2452\n",
      "4        1029\n",
      "3        1024\n",
      "Name: last_new_job, dtype: int64 \n",
      "\n"
     ]
    }
   ],
   "source": [
    "# Check data values\n",
    "for i in list(df.select_dtypes(['object']).columns):\n",
    "    print(i,'\\n',df[i].value_counts(),'\\n')"
   ]
  },
  {
   "cell_type": "code",
   "execution_count": 20,
   "metadata": {},
   "outputs": [
    {
     "data": {
      "image/png": "[encoded data removed]",
      "text/plain": [
       "<Figure size 1296x1800 with 8 Axes>"
      ]
     },
     "metadata": {
      "needs_background": "light"
     },
     "output_type": "display_data"
    }
   ],
   "source": [
    "# Visualize data values\n",
    "plt.figure(figsize=(18,25))\n",
    "column_list = list(df.columns.values) [3:11]\n",
    "A = 0\n",
    "for i in column_list:\n",
    "    A+=1\n",
    "    plt.subplot(4,2,A)\n",
    "    ax = sns.countplot(data=df.fillna('NaN'), x=i)\n",
    "    plt.title(i, fontsize=15)\n",
    "    for p in ax.patches:\n",
    "        ax.annotate(f'\\n{p.get_height()}', (p.get_x()+0.4, p.get_height()), ha='center', color='black', size=12)\n",
    "    if A >=7:\n",
    "        plt.xticks(rotation=45)"
   ]
  },
  {
   "cell_type": "markdown",
   "metadata": {},
   "source": [
    "From the demography bar plot, we can see that:\n",
    "* Gender profile is dominated by male candidate\n",
    "* There are more candidate that has relevant work experience than those who are unexperienced\n",
    "* Most of the candidate are not enrolling university\n",
    "* Most of the candidate are graduates\n",
    "* There is a significant number of STEM graduate than any other discipline \n",
    "* There is more candidates that has experience above 20 years prior\n",
    "* There is more candidates that did not provide their previous company size\n",
    "* More than half of the candidate worked at Pvt Ltd company type"
   ]
  },
  {
   "cell_type": "markdown",
   "metadata": {},
   "source": [
    "## Data Inconsistency"
   ]
  },
  {
   "cell_type": "code",
   "execution_count": 21,
   "metadata": {
    "ExecuteTime": {
     "end_time": "2021-08-28T10:50:54.595240Z",
     "start_time": "2021-08-28T10:50:54.584289Z"
    }
   },
   "outputs": [],
   "source": [
    "# Make data more neat to read\n",
    "df['enrolled_university'] = df['enrolled_university'].replace('no_enrollment', 'No enrollment')"
   ]
  },
  {
   "cell_type": "code",
   "execution_count": 22,
   "metadata": {
    "ExecuteTime": {
     "end_time": "2021-08-28T10:50:54.611349Z",
     "start_time": "2021-08-28T10:50:54.600531Z"
    }
   },
   "outputs": [],
   "source": [
    "# Correctiong punctuation\n",
    "df['company_size'] = df['company_size'].replace('10/49','10-49')"
   ]
  },
  {
   "cell_type": "code",
   "execution_count": 23,
   "metadata": {
    "ExecuteTime": {
     "end_time": "2021-08-28T10:50:54.644141Z",
     "start_time": "2021-08-28T10:50:54.614347Z"
    }
   },
   "outputs": [
    {
     "data": {
      "text/plain": [
       "0"
      ]
     },
     "execution_count": 23,
     "metadata": {},
     "output_type": "execute_result"
    }
   ],
   "source": [
    "# Check any duplicate data\n",
    "df['enrollee_id'].duplicated().sum() #there is no duplicate data"
   ]
  },
  {
   "cell_type": "markdown",
   "metadata": {},
   "source": [
    "## Feature Engineering"
   ]
  },
  {
   "cell_type": "code",
   "execution_count": 24,
   "metadata": {},
   "outputs": [],
   "source": [
    "imputer_modus=SimpleImputer(strategy=\"most_frequent\")\n",
    "df[[\"enrolled_university\",\"education_level\",\"experience\",\"last_new_job\"]]=imputer_modus.fit_transform(df[[\"enrolled_university\",\"education_level\",\"experience\",\"last_new_job\"]])\n",
    "\n",
    "imputer_cons=SimpleImputer(strategy=\"constant\",fill_value=\"Not provided\")\n",
    "df[[\"gender\",\"major_discipline\",\"company_size\",\"company_type\"]]=imputer_cons.fit_transform(df[[\"gender\",\"major_discipline\",\"company_size\",\"company_type\"]])"
   ]
  },
  {
   "cell_type": "code",
   "execution_count": 25,
   "metadata": {
    "ExecuteTime": {
     "end_time": "2021-08-28T10:50:54.483895Z",
     "start_time": "2021-08-28T10:50:54.450623Z"
    }
   },
   "outputs": [
    {
     "name": "stdout",
     "output_type": "stream",
     "text": [
      "<class 'pandas.core.frame.DataFrame'>\n",
      "RangeIndex: 19158 entries, 0 to 19157\n",
      "Data columns (total 14 columns):\n",
      " #   Column                  Non-Null Count  Dtype  \n",
      "---  ------                  --------------  -----  \n",
      " 0   enrollee_id             19158 non-null  int64  \n",
      " 1   city                    19158 non-null  object \n",
      " 2   city_development_index  19158 non-null  float64\n",
      " 3   gender                  19158 non-null  object \n",
      " 4   relevent_experience     19158 non-null  object \n",
      " 5   enrolled_university     19158 non-null  object \n",
      " 6   education_level         19158 non-null  object \n",
      " 7   major_discipline        19158 non-null  object \n",
      " 8   experience              19158 non-null  object \n",
      " 9   company_size            19158 non-null  object \n",
      " 10  company_type            19158 non-null  object \n",
      " 11  last_new_job            19158 non-null  object \n",
      " 12  training_hours          19158 non-null  int64  \n",
      " 13  target                  19158 non-null  float64\n",
      "dtypes: float64(2), int64(2), object(10)\n",
      "memory usage: 2.0+ MB\n"
     ]
    }
   ],
   "source": [
    "df.info()"
   ]
  },
  {
   "cell_type": "code",
   "execution_count": 26,
   "metadata": {
    "ExecuteTime": {
     "end_time": "2021-08-28T10:50:54.523115Z",
     "start_time": "2021-08-28T10:50:54.486150Z"
    }
   },
   "outputs": [
    {
     "data": {
      "text/plain": [
       "enrollee_id               0\n",
       "city                      0\n",
       "city_development_index    0\n",
       "gender                    0\n",
       "relevent_experience       0\n",
       "enrolled_university       0\n",
       "education_level           0\n",
       "major_discipline          0\n",
       "experience                0\n",
       "company_size              0\n",
       "company_type              0\n",
       "last_new_job              0\n",
       "training_hours            0\n",
       "target                    0\n",
       "dtype: int64"
      ]
     },
     "execution_count": 26,
     "metadata": {},
     "output_type": "execute_result"
    }
   ],
   "source": [
    "# Check any NaN data after missing value handling\n",
    "df.isna().sum()"
   ]
  },
  {
   "cell_type": "markdown",
   "metadata": {},
   "source": [
    "**Encoding**  \n",
    "* One hot encoder : gender, company_type, major_discipline, enrolled_university\n",
    "* Ordinal encoder : relevent_experience, education_level, experience, company_size, lastnewjob   "
   ]
  },
  {
   "cell_type": "code",
   "execution_count": 27,
   "metadata": {
    "ExecuteTime": {
     "end_time": "2021-08-28T10:50:54.659859Z",
     "start_time": "2021-08-28T10:50:54.647147Z"
    }
   },
   "outputs": [],
   "source": [
    "# Ordinal Mapping Dictionary\n",
    "\n",
    "ordinal_mapping = [\n",
    "    {'col':'relevent_experience',\n",
    "    'mapping':{\n",
    "        'Has relevent experience': 1,\n",
    "        'No relevent experience': 0\n",
    "    }},\n",
    "    {'col':'education_level',\n",
    "    'mapping':{\n",
    "        'Primary School' : 0,\n",
    "        'Graduate'       : 2,\n",
    "        'Masters'        : 3, \n",
    "        'High School'    : 1, \n",
    "        'Phd'            : 4\n",
    "    }},\n",
    "    {'col':'experience',\n",
    "    'mapping':{\n",
    "        '<1'      :    0,\n",
    "        '1'       :    1, \n",
    "        '2'       :    2, \n",
    "        '3'       :    3, \n",
    "        '4'       :    4, \n",
    "        '5'       :    5,\n",
    "        '6'       :    6,\n",
    "        '7'       :    7,\n",
    "        '8'       :    8, \n",
    "        '9'       :    9, \n",
    "        '10'      :    10, \n",
    "        '11'      :    11,\n",
    "        '12'      :    12,\n",
    "        '13'      :    13, \n",
    "        '14'      :    14, \n",
    "        '15'      :    15, \n",
    "        '16'      :    16,\n",
    "        '17'      :    17,\n",
    "        '18'      :    18,\n",
    "        '19'      :    19, \n",
    "        '20'      :    20, \n",
    "        '>20'     :    21\n",
    "    }},\n",
    "    {'col':'company_size',\n",
    "    'mapping':{\n",
    "        'Not provided' : 0,\n",
    "        '<10'          : 1,\n",
    "        '10-49'        : 2, \n",
    "        '50-99'        : 3,\n",
    "        '100-500'      : 4, \n",
    "        '500-999'      : 5, \n",
    "        '1000-4999'    : 6, \n",
    "        '5000-9999'    : 7,\n",
    "        '10000+'       : 8      \n",
    "    }},\n",
    "    {'col':'last_new_job',\n",
    "    'mapping':{\n",
    "        'never'        :    0,\n",
    "        '1'            :    1, \n",
    "        '2'            :    2, \n",
    "        '3'            :    3, \n",
    "        '4'            :    4, \n",
    "        '>4'           :    5\n",
    "    }}\n",
    "]"
   ]
  },
  {
   "cell_type": "code",
   "execution_count": 28,
   "metadata": {
    "ExecuteTime": {
     "end_time": "2021-08-28T10:50:54.690176Z",
     "start_time": "2021-08-28T10:50:54.662837Z"
    }
   },
   "outputs": [],
   "source": [
    "transformer = ColumnTransformer([\n",
    "    ('onehot', OneHotEncoder(), ['gender', 'company_type', 'major_discipline', 'enrolled_university',]),\n",
    "    ('ordinal', ce.OrdinalEncoder(mapping= ordinal_mapping), ['relevent_experience', 'education_level', 'experience', 'company_size', 'last_new_job'])\n",
    "], remainder='passthrough')"
   ]
  },
  {
   "cell_type": "markdown",
   "metadata": {},
   "source": [
    "## Data proportion"
   ]
  },
  {
   "cell_type": "code",
   "execution_count": 29,
   "metadata": {},
   "outputs": [],
   "source": [
    "transformer_cat = ColumnTransformer([\n",
    "    ('ordinal', ce.OrdinalEncoder(mapping= ordinal_mapping), ['relevent_experience', 'education_level', 'experience', 'company_size', 'last_new_job'])\n",
    "], remainder='passthrough')\n",
    "\n",
    "x_cat = df[['relevent_experience', 'education_level', 'experience', 'company_size', 'last_new_job','target']]\n",
    "\n",
    "transformer_cat.fit_transform(x_cat)\n",
    "features = transformer_cat.get_feature_names()\n",
    "\n",
    "x_cat_ord = pd.DataFrame(transformer_cat.fit_transform(x_cat),columns=features)"
   ]
  },
  {
   "cell_type": "code",
   "execution_count": 30,
   "metadata": {},
   "outputs": [
    {
     "data": {
      "text/plain": [
       "['ordinal__relevent_experience',\n",
       " 'ordinal__education_level',\n",
       " 'ordinal__experience',\n",
       " 'ordinal__company_size',\n",
       " 'ordinal__last_new_job',\n",
       " 'target']"
      ]
     },
     "execution_count": 30,
     "metadata": {},
     "output_type": "execute_result"
    }
   ],
   "source": [
    "features = transformer_cat.get_feature_names()\n",
    "features"
   ]
  },
  {
   "cell_type": "code",
   "execution_count": 31,
   "metadata": {},
   "outputs": [],
   "source": [
    "df1 = x_cat_ord.copy()\n",
    "df1['city_development_index range'] = pd.cut(df['city_development_index'],7)\n",
    "df1['training_hours range'] = pd.cut(df['training_hours'],7)"
   ]
  },
  {
   "cell_type": "code",
   "execution_count": 32,
   "metadata": {
    "scrolled": true
   },
   "outputs": [
    {
     "data": {
      "image/png": "[encoded data removed]",
      "text/plain": [
       "<Figure size 1440x1440 with 7 Axes>"
      ]
     },
     "metadata": {
      "needs_background": "light"
     },
     "output_type": "display_data"
    }
   ],
   "source": [
    "# Proportion of ordinal data\n",
    "count = 0\n",
    "fig = plt.figure(figsize=(20,20))\n",
    "\n",
    "for i in df1.drop(columns='target').columns:\n",
    "      count +=1\n",
    "      ax= plt.subplot(4,3,count)\n",
    "      pd.crosstab(df1[i],df1['target'],normalize=0).plot(kind='bar',stacked=True,ax=ax)\n",
    "      fig.tight_layout()\n"
   ]
  },
  {
   "cell_type": "code",
   "execution_count": 33,
   "metadata": {},
   "outputs": [
    {
     "data": {
      "image/png": "[encoded data removed]",
      "text/plain": [
       "<Figure size 1440x1440 with 4 Axes>"
      ]
     },
     "metadata": {
      "needs_background": "light"
     },
     "output_type": "display_data"
    }
   ],
   "source": [
    "# Proportion of nominal data\n",
    "count = 0\n",
    "fig = plt.figure(figsize=(20,20))\n",
    "\n",
    "for i in df[['gender','company_type','major_discipline','enrolled_university']].columns:\n",
    "      count +=1\n",
    "      ax= plt.subplot(4,3,count)\n",
    "      pd.crosstab(df[i],df['target'],normalize=0).plot(kind='bar',stacked=True,ax=ax)\n",
    "      fig.tight_layout()\n"
   ]
  },
  {
   "cell_type": "code",
   "execution_count": 34,
   "metadata": {
    "scrolled": true
   },
   "outputs": [
    {
     "data": {
      "image/png": "[encoded data removed]",
      "text/plain": [
       "<Figure size 864x288 with 2 Axes>"
      ]
     },
     "metadata": {
      "needs_background": "light"
     },
     "output_type": "display_data"
    }
   ],
   "source": [
    "count = 0\n",
    "fig = plt.figure(figsize=(12,4))\n",
    "\n",
    "for i in df[['city_development_index','training_hours']].columns:\n",
    "    count +=1\n",
    "    ax= plt.subplot(1,2,count)\n",
    "    sns.barplot(data=df, x='target', y=i, ci=None, estimator=np.mean)\n",
    "    fig.tight_layout()"
   ]
  },
  {
   "cell_type": "markdown",
   "metadata": {},
   "source": [
    "# Model Selection"
   ]
  },
  {
   "cell_type": "markdown",
   "metadata": {},
   "source": [
    "We will try several models:\n",
    "* Logistic Regression\n",
    "* KNN \n",
    "* Decision Tree\n",
    "* Random Forest\n",
    "\n",
    "feature : 'city_development_index', 'gender',\n",
    "       'relevent_experience', 'enrolled_university', 'education_level',\n",
    "       'major_discipline', 'experience', 'company_size', 'company_type',\n",
    "       'last_new_job', 'training_hours'  \n",
    "target : 'target'"
   ]
  },
  {
   "cell_type": "code",
   "execution_count": 35,
   "metadata": {
    "ExecuteTime": {
     "end_time": "2021-08-28T10:50:54.748661Z",
     "start_time": "2021-08-28T10:50:54.742524Z"
    }
   },
   "outputs": [],
   "source": [
    "x = df.drop(columns=['enrollee_id','city','target'])\n",
    "y = df['target']"
   ]
  },
  {
   "cell_type": "markdown",
   "metadata": {},
   "source": [
    "## Splitting Data"
   ]
  },
  {
   "cell_type": "code",
   "execution_count": 36,
   "metadata": {
    "ExecuteTime": {
     "end_time": "2021-08-28T10:50:54.794433Z",
     "start_time": "2021-08-28T10:50:54.751396Z"
    }
   },
   "outputs": [],
   "source": [
    "x_train,x_test,y_train,y_test=train_test_split(x,y,stratify=y,test_size=.2,random_state=2020)"
   ]
  },
  {
   "cell_type": "markdown",
   "metadata": {},
   "source": [
    "## Model Benchmarking"
   ]
  },
  {
   "cell_type": "code",
   "execution_count": 37,
   "metadata": {
    "ExecuteTime": {
     "end_time": "2021-08-28T10:50:54.809628Z",
     "start_time": "2021-08-28T10:50:54.796520Z"
    }
   },
   "outputs": [],
   "source": [
    "# Model variables\n",
    "logreg = LogisticRegression(max_iter=100, random_state=2020)\n",
    "knn = KNeighborsClassifier()\n",
    "dt = DecisionTreeClassifier(max_depth=3, random_state=2020)\n",
    "rf = RandomForestClassifier(random_state=2020)"
   ]
  },
  {
   "cell_type": "code",
   "execution_count": 38,
   "metadata": {
    "ExecuteTime": {
     "end_time": "2021-08-28T10:51:19.668155Z",
     "start_time": "2021-08-28T10:50:54.812120Z"
    }
   },
   "outputs": [],
   "source": [
    "models = [logreg,knn,dt,rf]\n",
    "score=[]\n",
    "rata=[]\n",
    "std=[]\n",
    "\n",
    "for i in models:\n",
    "    skfold=StratifiedKFold(n_splits=5)\n",
    "    estimator=Pipeline([\n",
    "        ('preprocess',transformer),\n",
    "        ('model',i)])\n",
    "    model_cv=cross_val_score(estimator,x_train,y_train,cv=skfold,scoring='roc_auc')\n",
    "    score.append(model_cv)\n",
    "    rata.append(model_cv.mean())\n",
    "    std.append(model_cv.std())"
   ]
  },
  {
   "cell_type": "markdown",
   "metadata": {
    "ExecuteTime": {
     "end_time": "2021-08-28T11:10:58.824700Z",
     "start_time": "2021-08-28T11:10:58.811919Z"
    }
   },
   "source": [
    "### Model Benchmarking: Data train"
   ]
  },
  {
   "cell_type": "code",
   "execution_count": 39,
   "metadata": {
    "ExecuteTime": {
     "end_time": "2021-08-28T10:51:19.703495Z",
     "start_time": "2021-08-28T10:51:19.671895Z"
    },
    "scrolled": true
   },
   "outputs": [
    {
     "data": {
      "text/html": [
       "<div>\n",
       "<style scoped>\n",
       "    .dataframe tbody tr th:only-of-type {\n",
       "        vertical-align: middle;\n",
       "    }\n",
       "\n",
       "    .dataframe tbody tr th {\n",
       "        vertical-align: top;\n",
       "    }\n",
       "\n",
       "    .dataframe thead th {\n",
       "        text-align: right;\n",
       "    }\n",
       "</style>\n",
       "<table border=\"1\" class=\"dataframe\">\n",
       "  <thead>\n",
       "    <tr style=\"text-align: right;\">\n",
       "      <th></th>\n",
       "      <th>mean</th>\n",
       "      <th>sdev</th>\n",
       "    </tr>\n",
       "    <tr>\n",
       "      <th>model</th>\n",
       "      <th></th>\n",
       "      <th></th>\n",
       "    </tr>\n",
       "  </thead>\n",
       "  <tbody>\n",
       "    <tr>\n",
       "      <th>Random Forest</th>\n",
       "      <td>0.782692</td>\n",
       "      <td>0.004918</td>\n",
       "    </tr>\n",
       "    <tr>\n",
       "      <th>Decision Tree</th>\n",
       "      <td>0.775697</td>\n",
       "      <td>0.006667</td>\n",
       "    </tr>\n",
       "    <tr>\n",
       "      <th>Logistic Regression</th>\n",
       "      <td>0.756353</td>\n",
       "      <td>0.009495</td>\n",
       "    </tr>\n",
       "    <tr>\n",
       "      <th>KNN</th>\n",
       "      <td>0.639860</td>\n",
       "      <td>0.007537</td>\n",
       "    </tr>\n",
       "  </tbody>\n",
       "</table>\n",
       "</div>"
      ],
      "text/plain": [
       "                         mean      sdev\n",
       "model                                  \n",
       "Random Forest        0.782692  0.004918\n",
       "Decision Tree        0.775697  0.006667\n",
       "Logistic Regression  0.756353  0.009495\n",
       "KNN                  0.639860  0.007537"
      ]
     },
     "execution_count": 39,
     "metadata": {},
     "output_type": "execute_result"
    }
   ],
   "source": [
    "pd.DataFrame({'model':['Logistic Regression', 'KNN', 'Decision Tree', 'Random Forest'],'mean':rata,'sdev':std}).set_index('model').sort_values(by='mean',ascending=False)"
   ]
  },
  {
   "cell_type": "code",
   "execution_count": 40,
   "metadata": {
    "ExecuteTime": {
     "end_time": "2021-08-28T11:06:28.328060Z",
     "start_time": "2021-08-28T11:06:20.123249Z"
    }
   },
   "outputs": [],
   "source": [
    "models = [logreg,knn,dt,rf]\n",
    "score = []\n",
    "\n",
    "for i in models:\n",
    "    estimator=Pipeline([\n",
    "        ('preprocess',transformer),\n",
    "        ('model',i)])\n",
    "    \n",
    "    estimator.fit(x_train,y_train)\n",
    "    y_pred=estimator.predict(x_test)\n",
    "    y_predict_proba = estimator.predict_proba(x_test)[:,1]\n",
    "    score.append(roc_auc_score(y_test,y_predict_proba))"
   ]
  },
  {
   "cell_type": "markdown",
   "metadata": {},
   "source": [
    "### Model Benchmarking: Data train"
   ]
  },
  {
   "cell_type": "code",
   "execution_count": 41,
   "metadata": {
    "ExecuteTime": {
     "end_time": "2021-08-28T11:08:30.539749Z",
     "start_time": "2021-08-28T11:08:30.515919Z"
    }
   },
   "outputs": [
    {
     "data": {
      "text/html": [
       "<div>\n",
       "<style scoped>\n",
       "    .dataframe tbody tr th:only-of-type {\n",
       "        vertical-align: middle;\n",
       "    }\n",
       "\n",
       "    .dataframe tbody tr th {\n",
       "        vertical-align: top;\n",
       "    }\n",
       "\n",
       "    .dataframe thead th {\n",
       "        text-align: right;\n",
       "    }\n",
       "</style>\n",
       "<table border=\"1\" class=\"dataframe\">\n",
       "  <thead>\n",
       "    <tr style=\"text-align: right;\">\n",
       "      <th></th>\n",
       "      <th>roc auc score</th>\n",
       "    </tr>\n",
       "    <tr>\n",
       "      <th>model</th>\n",
       "      <th></th>\n",
       "    </tr>\n",
       "  </thead>\n",
       "  <tbody>\n",
       "    <tr>\n",
       "      <th>Random Forest</th>\n",
       "      <td>0.783209</td>\n",
       "    </tr>\n",
       "    <tr>\n",
       "      <th>Decision Tree</th>\n",
       "      <td>0.777336</td>\n",
       "    </tr>\n",
       "    <tr>\n",
       "      <th>Logistic Regression</th>\n",
       "      <td>0.749269</td>\n",
       "    </tr>\n",
       "    <tr>\n",
       "      <th>KNN</th>\n",
       "      <td>0.643783</td>\n",
       "    </tr>\n",
       "  </tbody>\n",
       "</table>\n",
       "</div>"
      ],
      "text/plain": [
       "                     roc auc score\n",
       "model                             \n",
       "Random Forest             0.783209\n",
       "Decision Tree             0.777336\n",
       "Logistic Regression       0.749269\n",
       "KNN                       0.643783"
      ]
     },
     "execution_count": 41,
     "metadata": {},
     "output_type": "execute_result"
    }
   ],
   "source": [
    "pd.DataFrame({'model':['Logistic Regression', 'KNN', 'Decision Tree', 'Random Forest'],\n",
    "             'roc auc score':score}).set_index('model').sort_values(by='roc auc score',ascending=False)"
   ]
  },
  {
   "cell_type": "markdown",
   "metadata": {},
   "source": [
    "### Performance Comparison: Data train & Data test"
   ]
  },
  {
   "cell_type": "code",
   "execution_count": 42,
   "metadata": {
    "ExecuteTime": {
     "end_time": "2021-08-28T11:09:29.549345Z",
     "start_time": "2021-08-28T11:09:29.531820Z"
    },
    "scrolled": true
   },
   "outputs": [
    {
     "data": {
      "text/html": [
       "<div>\n",
       "<style scoped>\n",
       "    .dataframe tbody tr th:only-of-type {\n",
       "        vertical-align: middle;\n",
       "    }\n",
       "\n",
       "    .dataframe tbody tr th {\n",
       "        vertical-align: top;\n",
       "    }\n",
       "\n",
       "    .dataframe thead th {\n",
       "        text-align: right;\n",
       "    }\n",
       "</style>\n",
       "<table border=\"1\" class=\"dataframe\">\n",
       "  <thead>\n",
       "    <tr style=\"text-align: right;\">\n",
       "      <th></th>\n",
       "      <th>Data Train Result</th>\n",
       "      <th>Data Test Result</th>\n",
       "    </tr>\n",
       "    <tr>\n",
       "      <th>model</th>\n",
       "      <th></th>\n",
       "      <th></th>\n",
       "    </tr>\n",
       "  </thead>\n",
       "  <tbody>\n",
       "    <tr>\n",
       "      <th>Random Forest</th>\n",
       "      <td>0.782692</td>\n",
       "      <td>0.783209</td>\n",
       "    </tr>\n",
       "    <tr>\n",
       "      <th>Decision Tree</th>\n",
       "      <td>0.775697</td>\n",
       "      <td>0.777336</td>\n",
       "    </tr>\n",
       "    <tr>\n",
       "      <th>Logistic Regression</th>\n",
       "      <td>0.756353</td>\n",
       "      <td>0.749269</td>\n",
       "    </tr>\n",
       "    <tr>\n",
       "      <th>KNN</th>\n",
       "      <td>0.639860</td>\n",
       "      <td>0.643783</td>\n",
       "    </tr>\n",
       "  </tbody>\n",
       "</table>\n",
       "</div>"
      ],
      "text/plain": [
       "                     Data Train Result  Data Test Result\n",
       "model                                                   \n",
       "Random Forest                 0.782692          0.783209\n",
       "Decision Tree                 0.775697          0.777336\n",
       "Logistic Regression           0.756353          0.749269\n",
       "KNN                           0.639860          0.643783"
      ]
     },
     "execution_count": 42,
     "metadata": {},
     "output_type": "execute_result"
    }
   ],
   "source": [
    "pd.DataFrame({'model':['Logistic Regression', 'KNN', 'Decision Tree', 'Random Forest'],\n",
    "              'Data Train Result':rata,\n",
    "             'Data Test Result':score}).set_index('model').sort_values(by='Data Test Result',ascending=False)"
   ]
  },
  {
   "cell_type": "markdown",
   "metadata": {},
   "source": [
    "**Random Forest give best performances based on Data train and Data test**"
   ]
  },
  {
   "cell_type": "markdown",
   "metadata": {},
   "source": [
    "## Imbalance data handling"
   ]
  },
  {
   "cell_type": "code",
   "execution_count": 43,
   "metadata": {
    "ExecuteTime": {
     "end_time": "2021-08-28T10:52:15.070679Z",
     "start_time": "2021-08-28T10:51:29.717254Z"
    }
   },
   "outputs": [],
   "source": [
    "cv_score = []\n",
    "\n",
    "# Resampling methods variable\n",
    "nearmiss=NearMiss()\n",
    "smote = SMOTE(random_state=2020)\n",
    "model= RandomForestClassifier()\n",
    "\n",
    "for i in [nearmiss,smote]:\n",
    "    estimator= Pipeline([\n",
    "        ('preprocess', transformer),\n",
    "        ('resampling', i),\n",
    "        ('model',model)\n",
    "    ])\n",
    "    skfold= StratifiedKFold(n_splits=5)\n",
    "    model_cv=cross_val_score(estimator, x_train, y_train, cv=skfold, scoring='roc_auc')\n",
    "    cv_score.append(model_cv.mean())\n",
    "\n",
    "estimator= Pipeline([\n",
    "        ('preprocess', transformer),\n",
    "        ('model',RandomForestClassifier(class_weight='balanced'))\n",
    "    ])\n",
    "skfold= StratifiedKFold(n_splits=5)\n",
    "model_cv=cross_val_score(estimator, x_train, y_train, cv=skfold, scoring='roc_auc')\n",
    "cv_score.append(model_cv.mean())"
   ]
  },
  {
   "cell_type": "code",
   "execution_count": 44,
   "metadata": {
    "ExecuteTime": {
     "end_time": "2021-08-28T10:52:15.111074Z",
     "start_time": "2021-08-28T10:52:15.075349Z"
    }
   },
   "outputs": [
    {
     "data": {
      "text/html": [
       "<div>\n",
       "<style scoped>\n",
       "    .dataframe tbody tr th:only-of-type {\n",
       "        vertical-align: middle;\n",
       "    }\n",
       "\n",
       "    .dataframe tbody tr th {\n",
       "        vertical-align: top;\n",
       "    }\n",
       "\n",
       "    .dataframe thead th {\n",
       "        text-align: right;\n",
       "    }\n",
       "</style>\n",
       "<table border=\"1\" class=\"dataframe\">\n",
       "  <thead>\n",
       "    <tr style=\"text-align: right;\">\n",
       "      <th></th>\n",
       "      <th>cv score</th>\n",
       "    </tr>\n",
       "    <tr>\n",
       "      <th>model</th>\n",
       "      <th></th>\n",
       "    </tr>\n",
       "  </thead>\n",
       "  <tbody>\n",
       "    <tr>\n",
       "      <th>Class Weight</th>\n",
       "      <td>0.785695</td>\n",
       "    </tr>\n",
       "    <tr>\n",
       "      <th>SMOTE</th>\n",
       "      <td>0.779334</td>\n",
       "    </tr>\n",
       "    <tr>\n",
       "      <th>Nearmiss</th>\n",
       "      <td>0.659649</td>\n",
       "    </tr>\n",
       "  </tbody>\n",
       "</table>\n",
       "</div>"
      ],
      "text/plain": [
       "              cv score\n",
       "model                 \n",
       "Class Weight  0.785695\n",
       "SMOTE         0.779334\n",
       "Nearmiss      0.659649"
      ]
     },
     "execution_count": 44,
     "metadata": {},
     "output_type": "execute_result"
    }
   ],
   "source": [
    "pd.DataFrame({'model':['Nearmiss','SMOTE','Class Weight'],\n",
    "             'cv score':cv_score}).set_index('model').sort_values(by='cv score',ascending=False)"
   ]
  },
  {
   "cell_type": "code",
   "execution_count": 45,
   "metadata": {
    "ExecuteTime": {
     "end_time": "2021-08-28T10:52:27.032261Z",
     "start_time": "2021-08-28T10:52:15.120797Z"
    },
    "scrolled": true
   },
   "outputs": [
    {
     "name": "stdout",
     "output_type": "stream",
     "text": [
      "NearMiss() 0.6509624081221895\n",
      "SMOTE(random_state=2020) 0.7771859139192039\n"
     ]
    }
   ],
   "source": [
    "models = [nearmiss, smote]\n",
    "score = []\n",
    "\n",
    "for i in models:\n",
    "    estimator= Pipeline([\n",
    "        ('preprocess', transformer),\n",
    "        ('resampling', i),\n",
    "        ('model',model)\n",
    "         ])\n",
    "    estimator.fit(x_train,y_train)\n",
    "    y_pred=estimator.predict(x_test)\n",
    "    y_predict_proba = estimator.predict_proba(x_test)[:,1]\n",
    "    score.append(roc_auc_score(y_test,y_predict_proba))\n",
    "    print(i, roc_auc_score(y_test,y_predict_proba))\n",
    "\n",
    "estimator= Pipeline([\n",
    "        ('preprocess', transformer),\n",
    "        ('model',RandomForestClassifier(class_weight='balanced'))\n",
    "    ])\n",
    "estimator.fit(x_train,y_train)\n",
    "y_pred=estimator.predict(x_test)\n",
    "y_predict_proba = estimator.predict_proba(x_test)[:,1]\n",
    "score.append(roc_auc_score(y_test,y_predict_proba))"
   ]
  },
  {
   "cell_type": "code",
   "execution_count": 46,
   "metadata": {
    "ExecuteTime": {
     "end_time": "2021-08-28T10:52:27.055600Z",
     "start_time": "2021-08-28T10:52:27.034463Z"
    }
   },
   "outputs": [
    {
     "data": {
      "text/html": [
       "<div>\n",
       "<style scoped>\n",
       "    .dataframe tbody tr th:only-of-type {\n",
       "        vertical-align: middle;\n",
       "    }\n",
       "\n",
       "    .dataframe tbody tr th {\n",
       "        vertical-align: top;\n",
       "    }\n",
       "\n",
       "    .dataframe thead th {\n",
       "        text-align: right;\n",
       "    }\n",
       "</style>\n",
       "<table border=\"1\" class=\"dataframe\">\n",
       "  <thead>\n",
       "    <tr style=\"text-align: right;\">\n",
       "      <th></th>\n",
       "      <th>cv score</th>\n",
       "      <th>roc auc score</th>\n",
       "    </tr>\n",
       "    <tr>\n",
       "      <th>model</th>\n",
       "      <th></th>\n",
       "      <th></th>\n",
       "    </tr>\n",
       "  </thead>\n",
       "  <tbody>\n",
       "    <tr>\n",
       "      <th>Class Weight</th>\n",
       "      <td>0.785695</td>\n",
       "      <td>0.783778</td>\n",
       "    </tr>\n",
       "    <tr>\n",
       "      <th>SMOTE</th>\n",
       "      <td>0.779334</td>\n",
       "      <td>0.777186</td>\n",
       "    </tr>\n",
       "    <tr>\n",
       "      <th>Nearmiss</th>\n",
       "      <td>0.659649</td>\n",
       "      <td>0.650962</td>\n",
       "    </tr>\n",
       "  </tbody>\n",
       "</table>\n",
       "</div>"
      ],
      "text/plain": [
       "              cv score  roc auc score\n",
       "model                                \n",
       "Class Weight  0.785695       0.783778\n",
       "SMOTE         0.779334       0.777186\n",
       "Nearmiss      0.659649       0.650962"
      ]
     },
     "execution_count": 46,
     "metadata": {},
     "output_type": "execute_result"
    }
   ],
   "source": [
    "pd.DataFrame({'model':['Nearmiss','SMOTE','Class Weight'],\n",
    "             'cv score':cv_score,\n",
    "             'roc auc score':score}).set_index('model').sort_values(by='cv score',ascending=False)"
   ]
  },
  {
   "cell_type": "code",
   "execution_count": 73,
   "metadata": {},
   "outputs": [
    {
     "data": {
      "text/html": [
       "<div>\n",
       "<style scoped>\n",
       "    .dataframe tbody tr th:only-of-type {\n",
       "        vertical-align: middle;\n",
       "    }\n",
       "\n",
       "    .dataframe tbody tr th {\n",
       "        vertical-align: top;\n",
       "    }\n",
       "\n",
       "    .dataframe thead th {\n",
       "        text-align: right;\n",
       "    }\n",
       "</style>\n",
       "<table border=\"1\" class=\"dataframe\">\n",
       "  <thead>\n",
       "    <tr style=\"text-align: right;\">\n",
       "      <th></th>\n",
       "      <th>fpr</th>\n",
       "      <th>tpr</th>\n",
       "      <th>th</th>\n",
       "      <th>ratio</th>\n",
       "    </tr>\n",
       "  </thead>\n",
       "  <tbody>\n",
       "    <tr>\n",
       "      <th>99</th>\n",
       "      <td>0.210636</td>\n",
       "      <td>0.692147</td>\n",
       "      <td>0.310000</td>\n",
       "      <td>3.285983</td>\n",
       "    </tr>\n",
       "    <tr>\n",
       "      <th>100</th>\n",
       "      <td>0.214807</td>\n",
       "      <td>0.703665</td>\n",
       "      <td>0.300000</td>\n",
       "      <td>3.275799</td>\n",
       "    </tr>\n",
       "    <tr>\n",
       "      <th>101</th>\n",
       "      <td>0.215155</td>\n",
       "      <td>0.703665</td>\n",
       "      <td>0.291800</td>\n",
       "      <td>3.270507</td>\n",
       "    </tr>\n",
       "    <tr>\n",
       "      <th>102</th>\n",
       "      <td>0.221759</td>\n",
       "      <td>0.715183</td>\n",
       "      <td>0.290000</td>\n",
       "      <td>3.225050</td>\n",
       "    </tr>\n",
       "    <tr>\n",
       "      <th>103</th>\n",
       "      <td>0.222106</td>\n",
       "      <td>0.715183</td>\n",
       "      <td>0.287506</td>\n",
       "      <td>3.220003</td>\n",
       "    </tr>\n",
       "    <tr>\n",
       "      <th>104</th>\n",
       "      <td>0.232881</td>\n",
       "      <td>0.727749</td>\n",
       "      <td>0.280000</td>\n",
       "      <td>3.124975</td>\n",
       "    </tr>\n",
       "    <tr>\n",
       "      <th>105</th>\n",
       "      <td>0.241919</td>\n",
       "      <td>0.730890</td>\n",
       "      <td>0.270000</td>\n",
       "      <td>3.021222</td>\n",
       "    </tr>\n",
       "    <tr>\n",
       "      <th>106</th>\n",
       "      <td>0.249218</td>\n",
       "      <td>0.739267</td>\n",
       "      <td>0.260000</td>\n",
       "      <td>2.966348</td>\n",
       "    </tr>\n",
       "    <tr>\n",
       "      <th>107</th>\n",
       "      <td>0.249566</td>\n",
       "      <td>0.739267</td>\n",
       "      <td>0.256008</td>\n",
       "      <td>2.962216</td>\n",
       "    </tr>\n",
       "    <tr>\n",
       "      <th>108</th>\n",
       "      <td>0.260341</td>\n",
       "      <td>0.748691</td>\n",
       "      <td>0.250000</td>\n",
       "      <td>2.875813</td>\n",
       "    </tr>\n",
       "  </tbody>\n",
       "</table>\n",
       "</div>"
      ],
      "text/plain": [
       "          fpr       tpr        th     ratio\n",
       "99   0.210636  0.692147  0.310000  3.285983\n",
       "100  0.214807  0.703665  0.300000  3.275799\n",
       "101  0.215155  0.703665  0.291800  3.270507\n",
       "102  0.221759  0.715183  0.290000  3.225050\n",
       "103  0.222106  0.715183  0.287506  3.220003\n",
       "104  0.232881  0.727749  0.280000  3.124975\n",
       "105  0.241919  0.730890  0.270000  3.021222\n",
       "106  0.249218  0.739267  0.260000  2.966348\n",
       "107  0.249566  0.739267  0.256008  2.962216\n",
       "108  0.260341  0.748691  0.250000  2.875813"
      ]
     },
     "execution_count": 73,
     "metadata": {},
     "output_type": "execute_result"
    },
    {
     "data": {
      "image/png": "[encoded data removed]",
      "text/plain": [
       "<Figure size 432x288 with 1 Axes>"
      ]
     },
     "metadata": {
      "needs_background": "light"
     },
     "output_type": "display_data"
    }
   ],
   "source": [
    "fpr, tpr, threshold=roc_curve(y_test,y_predict_proba)\n",
    "\n",
    "plot_roc_curve(estimator,x_test,y_test)\n",
    "roc_auc_score(y_test,y_pred)\n",
    "df_treshold = pd.DataFrame({\n",
    "    \"fpr\":fpr,\n",
    "    \"tpr\":tpr,\n",
    "    \"th\":threshold\n",
    "})\n",
    "df_treshold_filtered = df_treshold[(df_treshold['fpr']>=0.21) & (df_treshold['fpr']<=0.27)]\n",
    "df_treshold_filtered['ratio'] = df_treshold_filtered['tpr']/df_treshold_filtered['fpr']\n",
    "df_treshold_filtered.sort_values('ratio',ascending=False)"
   ]
  },
  {
   "cell_type": "code",
   "execution_count": 74,
   "metadata": {
    "scrolled": true
   },
   "outputs": [
    {
     "data": {
      "text/plain": [
       "<AxesSubplot:xlabel='fpr', ylabel='tpr'>"
      ]
     },
     "execution_count": 74,
     "metadata": {},
     "output_type": "execute_result"
    },
    {
     "data": {
      "image/png": "[encoded data removed]",
      "text/plain": [
       "<Figure size 432x288 with 1 Axes>"
      ]
     },
     "metadata": {
      "needs_background": "light"
     },
     "output_type": "display_data"
    }
   ],
   "source": [
    "sns.scatterplot(data=df_treshold_filtered, x='fpr', y='tpr')"
   ]
  },
  {
   "cell_type": "code",
   "execution_count": 75,
   "metadata": {},
   "outputs": [
    {
     "data": {
      "text/plain": [
       "0.27"
      ]
     },
     "execution_count": 75,
     "metadata": {},
     "output_type": "execute_result"
    }
   ],
   "source": [
    "th1 = df_treshold_filtered.loc[105][2]\n",
    "th1"
   ]
  },
  {
   "cell_type": "code",
   "execution_count": 76,
   "metadata": {},
   "outputs": [
    {
     "name": "stdout",
     "output_type": "stream",
     "text": [
      "              precision    recall  f1-score   support\n",
      "\n",
      "         0.0       0.89      0.77      0.83      2877\n",
      "         1.0       0.51      0.73      0.60       955\n",
      "\n",
      "    accuracy                           0.76      3832\n",
      "   macro avg       0.70      0.75      0.71      3832\n",
      "weighted avg       0.80      0.76      0.77      3832\n",
      "\n",
      "0.783777640685196\n"
     ]
    }
   ],
   "source": [
    "y_pred = np.where(y_predict_proba>th1,1,0)\n",
    "print(classification_report(y_test,y_pred))\n",
    "print(roc_auc_score(y_test,y_predict_proba))"
   ]
  },
  {
   "cell_type": "markdown",
   "metadata": {},
   "source": [
    "# Model Tunning"
   ]
  },
  {
   "cell_type": "code",
   "execution_count": 77,
   "metadata": {
    "ExecuteTime": {
     "end_time": "2021-08-28T10:52:27.124664Z",
     "start_time": "2021-08-28T10:52:27.060834Z"
    },
    "scrolled": true
   },
   "outputs": [
    {
     "data": {
      "text/plain": [
       "{'memory': None,\n",
       " 'steps': [('preprocess',\n",
       "   ColumnTransformer(remainder='passthrough',\n",
       "                     transformers=[('onehot', OneHotEncoder(),\n",
       "                                    ['gender', 'company_type', 'major_discipline',\n",
       "                                     'enrolled_university']),\n",
       "                                   ('ordinal',\n",
       "                                    OrdinalEncoder(mapping=[{'col': 'relevent_experience',\n",
       "                                                             'mapping': {'Has relevent experience': 1,\n",
       "                                                                         'No relevent experience': 0}},\n",
       "                                                            {'col': 'education_level',\n",
       "                                                             'mapping': {'Graduate': 2,\n",
       "                                                                         'High School': 1,\n",
       "                                                                         'Masters...\n",
       "                                                                         '5': 5,\n",
       "                                                                         '6': 6,\n",
       "                                                                         '7': 7,\n",
       "                                                                         '8': 8,\n",
       "                                                                         '9': 9,\n",
       "                                                                         '<1': 0,\n",
       "                                                                         '>20': 21}},\n",
       "                                                            {'col': 'company_size',\n",
       "                                                             'mapping': {'10-49': 2,\n",
       "                                                                         '100-500': 4,\n",
       "                                                                         '1000-4999': 6,\n",
       "                                                                         '10000+': 8,\n",
       "                                                                         '50-99': 3,\n",
       "                                                                         '500-999': 5,\n",
       "                                                                         '5000-9999': 7,\n",
       "                                                                         '<10': 1,\n",
       "                                                                         'Not provided': 0}},\n",
       "                                                            {'col': 'last_new_job',\n",
       "                                                             'mapping': {'1': 1,\n",
       "                                                                         '2': 2,\n",
       "                                                                         '3': 3,\n",
       "                                                                         '4': 4,\n",
       "                                                                         '>4': 5,\n",
       "                                                                         'never': 0}}]),\n",
       "                                    ['relevent_experience', 'education_level',\n",
       "                                     'experience', 'company_size',\n",
       "                                     'last_new_job'])])),\n",
       "  ('model', RandomForestClassifier(class_weight='balanced'))],\n",
       " 'verbose': False,\n",
       " 'preprocess': ColumnTransformer(remainder='passthrough',\n",
       "                   transformers=[('onehot', OneHotEncoder(),\n",
       "                                  ['gender', 'company_type', 'major_discipline',\n",
       "                                   'enrolled_university']),\n",
       "                                 ('ordinal',\n",
       "                                  OrdinalEncoder(mapping=[{'col': 'relevent_experience',\n",
       "                                                           'mapping': {'Has relevent experience': 1,\n",
       "                                                                       'No relevent experience': 0}},\n",
       "                                                          {'col': 'education_level',\n",
       "                                                           'mapping': {'Graduate': 2,\n",
       "                                                                       'High School': 1,\n",
       "                                                                       'Masters...\n",
       "                                                                       '5': 5,\n",
       "                                                                       '6': 6,\n",
       "                                                                       '7': 7,\n",
       "                                                                       '8': 8,\n",
       "                                                                       '9': 9,\n",
       "                                                                       '<1': 0,\n",
       "                                                                       '>20': 21}},\n",
       "                                                          {'col': 'company_size',\n",
       "                                                           'mapping': {'10-49': 2,\n",
       "                                                                       '100-500': 4,\n",
       "                                                                       '1000-4999': 6,\n",
       "                                                                       '10000+': 8,\n",
       "                                                                       '50-99': 3,\n",
       "                                                                       '500-999': 5,\n",
       "                                                                       '5000-9999': 7,\n",
       "                                                                       '<10': 1,\n",
       "                                                                       'Not provided': 0}},\n",
       "                                                          {'col': 'last_new_job',\n",
       "                                                           'mapping': {'1': 1,\n",
       "                                                                       '2': 2,\n",
       "                                                                       '3': 3,\n",
       "                                                                       '4': 4,\n",
       "                                                                       '>4': 5,\n",
       "                                                                       'never': 0}}]),\n",
       "                                  ['relevent_experience', 'education_level',\n",
       "                                   'experience', 'company_size',\n",
       "                                   'last_new_job'])]),\n",
       " 'model': RandomForestClassifier(class_weight='balanced'),\n",
       " 'preprocess__n_jobs': None,\n",
       " 'preprocess__remainder': 'passthrough',\n",
       " 'preprocess__sparse_threshold': 0.3,\n",
       " 'preprocess__transformer_weights': None,\n",
       " 'preprocess__transformers': [('onehot',\n",
       "   OneHotEncoder(),\n",
       "   ['gender', 'company_type', 'major_discipline', 'enrolled_university']),\n",
       "  ('ordinal',\n",
       "   OrdinalEncoder(mapping=[{'col': 'relevent_experience',\n",
       "                            'mapping': {'Has relevent experience': 1,\n",
       "                                        'No relevent experience': 0}},\n",
       "                           {'col': 'education_level',\n",
       "                            'mapping': {'Graduate': 2, 'High School': 1,\n",
       "                                        'Masters': 3, 'Phd': 4,\n",
       "                                        'Primary School': 0}},\n",
       "                           {'col': 'experience',\n",
       "                            'mapping': {'1': 1, '10': 10, '11': 11, '12': 12,\n",
       "                                        '13': 13, '14': 14, '15': 15, '16': 16,\n",
       "                                        '17': 17, '18': 18, '19': 19, '2': 2,\n",
       "                                        '20': 20, '3': 3, '4': 4, '5': 5, '6': 6,\n",
       "                                        '7': 7, '8': 8, '9': 9, '<1': 0,\n",
       "                                        '>20': 21}},\n",
       "                           {'col': 'company_size',\n",
       "                            'mapping': {'10-49': 2, '100-500': 4, '1000-4999': 6,\n",
       "                                        '10000+': 8, '50-99': 3, '500-999': 5,\n",
       "                                        '5000-9999': 7, '<10': 1,\n",
       "                                        'Not provided': 0}},\n",
       "                           {'col': 'last_new_job',\n",
       "                            'mapping': {'1': 1, '2': 2, '3': 3, '4': 4, '>4': 5,\n",
       "                                        'never': 0}}]),\n",
       "   ['relevent_experience',\n",
       "    'education_level',\n",
       "    'experience',\n",
       "    'company_size',\n",
       "    'last_new_job'])],\n",
       " 'preprocess__verbose': False,\n",
       " 'preprocess__onehot': OneHotEncoder(),\n",
       " 'preprocess__ordinal': OrdinalEncoder(mapping=[{'col': 'relevent_experience',\n",
       "                          'mapping': {'Has relevent experience': 1,\n",
       "                                      'No relevent experience': 0}},\n",
       "                         {'col': 'education_level',\n",
       "                          'mapping': {'Graduate': 2, 'High School': 1,\n",
       "                                      'Masters': 3, 'Phd': 4,\n",
       "                                      'Primary School': 0}},\n",
       "                         {'col': 'experience',\n",
       "                          'mapping': {'1': 1, '10': 10, '11': 11, '12': 12,\n",
       "                                      '13': 13, '14': 14, '15': 15, '16': 16,\n",
       "                                      '17': 17, '18': 18, '19': 19, '2': 2,\n",
       "                                      '20': 20, '3': 3, '4': 4, '5': 5, '6': 6,\n",
       "                                      '7': 7, '8': 8, '9': 9, '<1': 0,\n",
       "                                      '>20': 21}},\n",
       "                         {'col': 'company_size',\n",
       "                          'mapping': {'10-49': 2, '100-500': 4, '1000-4999': 6,\n",
       "                                      '10000+': 8, '50-99': 3, '500-999': 5,\n",
       "                                      '5000-9999': 7, '<10': 1,\n",
       "                                      'Not provided': 0}},\n",
       "                         {'col': 'last_new_job',\n",
       "                          'mapping': {'1': 1, '2': 2, '3': 3, '4': 4, '>4': 5,\n",
       "                                      'never': 0}}]),\n",
       " 'preprocess__onehot__categories': 'auto',\n",
       " 'preprocess__onehot__drop': None,\n",
       " 'preprocess__onehot__dtype': numpy.float64,\n",
       " 'preprocess__onehot__handle_unknown': 'error',\n",
       " 'preprocess__onehot__sparse': True,\n",
       " 'preprocess__ordinal__cols': None,\n",
       " 'preprocess__ordinal__drop_invariant': False,\n",
       " 'preprocess__ordinal__handle_missing': 'value',\n",
       " 'preprocess__ordinal__handle_unknown': 'value',\n",
       " 'preprocess__ordinal__mapping': [{'col': 'relevent_experience',\n",
       "   'mapping': {'Has relevent experience': 1, 'No relevent experience': 0}},\n",
       "  {'col': 'education_level',\n",
       "   'mapping': {'Primary School': 0,\n",
       "    'Graduate': 2,\n",
       "    'Masters': 3,\n",
       "    'High School': 1,\n",
       "    'Phd': 4}},\n",
       "  {'col': 'experience',\n",
       "   'mapping': {'<1': 0,\n",
       "    '1': 1,\n",
       "    '2': 2,\n",
       "    '3': 3,\n",
       "    '4': 4,\n",
       "    '5': 5,\n",
       "    '6': 6,\n",
       "    '7': 7,\n",
       "    '8': 8,\n",
       "    '9': 9,\n",
       "    '10': 10,\n",
       "    '11': 11,\n",
       "    '12': 12,\n",
       "    '13': 13,\n",
       "    '14': 14,\n",
       "    '15': 15,\n",
       "    '16': 16,\n",
       "    '17': 17,\n",
       "    '18': 18,\n",
       "    '19': 19,\n",
       "    '20': 20,\n",
       "    '>20': 21}},\n",
       "  {'col': 'company_size',\n",
       "   'mapping': {'Not provided': 0,\n",
       "    '<10': 1,\n",
       "    '10-49': 2,\n",
       "    '50-99': 3,\n",
       "    '100-500': 4,\n",
       "    '500-999': 5,\n",
       "    '1000-4999': 6,\n",
       "    '5000-9999': 7,\n",
       "    '10000+': 8}},\n",
       "  {'col': 'last_new_job',\n",
       "   'mapping': {'never': 0, '1': 1, '2': 2, '3': 3, '4': 4, '>4': 5}}],\n",
       " 'preprocess__ordinal__return_df': True,\n",
       " 'preprocess__ordinal__verbose': 0,\n",
       " 'model__bootstrap': True,\n",
       " 'model__ccp_alpha': 0.0,\n",
       " 'model__class_weight': 'balanced',\n",
       " 'model__criterion': 'gini',\n",
       " 'model__max_depth': None,\n",
       " 'model__max_features': 'auto',\n",
       " 'model__max_leaf_nodes': None,\n",
       " 'model__max_samples': None,\n",
       " 'model__min_impurity_decrease': 0.0,\n",
       " 'model__min_impurity_split': None,\n",
       " 'model__min_samples_leaf': 1,\n",
       " 'model__min_samples_split': 2,\n",
       " 'model__min_weight_fraction_leaf': 0.0,\n",
       " 'model__n_estimators': 100,\n",
       " 'model__n_jobs': None,\n",
       " 'model__oob_score': False,\n",
       " 'model__random_state': None,\n",
       " 'model__verbose': 0,\n",
       " 'model__warm_start': False}"
      ]
     },
     "execution_count": 77,
     "metadata": {},
     "output_type": "execute_result"
    }
   ],
   "source": [
    "estimator.get_params()"
   ]
  },
  {
   "cell_type": "code",
   "execution_count": 78,
   "metadata": {
    "ExecuteTime": {
     "end_time": "2021-08-28T10:52:27.139018Z",
     "start_time": "2021-08-28T10:52:27.129808Z"
    }
   },
   "outputs": [],
   "source": [
    "hyperparam_space={\n",
    "    'model__n_estimators':[75],\n",
    "    'model__max_features':['auto','sqrt','log2'],\n",
    "    'model__max_depth':[None,2,4],\n",
    "    'model__min_samples_split':[5,7,9,11],\n",
    "    'model__min_samples_leaf':[2,3,4,7],\n",
    "    'model__bootstrap':[True,False],\n",
    "    'model__class_weight': ['balanced','balanced_subsample'],\n",
    "    'model__criterion':['gini','entropy']\n",
    "}"
   ]
  },
  {
   "cell_type": "code",
   "execution_count": 79,
   "metadata": {
    "ExecuteTime": {
     "end_time": "2021-08-28T10:52:27.155527Z",
     "start_time": "2021-08-28T10:52:27.144402Z"
    }
   },
   "outputs": [],
   "source": [
    "skfold=StratifiedKFold(n_splits=5)\n",
    "grid_search=GridSearchCV(\n",
    "    estimator,\n",
    "    param_grid=hyperparam_space,\n",
    "    cv=skfold,\n",
    "    scoring='roc_auc',\n",
    "    n_jobs=-1\n",
    ")"
   ]
  },
  {
   "cell_type": "code",
   "execution_count": 80,
   "metadata": {
    "ExecuteTime": {
     "end_time": "2021-08-28T10:52:27.163916Z",
     "start_time": "2021-08-28T10:52:27.157536Z"
    }
   },
   "outputs": [
    {
     "name": "stdout",
     "output_type": "stream",
     "text": [
      "0.8015667717261357\n",
      "{'model__bootstrap': True, 'model__class_weight': 'balanced', 'model__criterion': 'gini', 'model__max_depth': None, 'model__max_features': 'sqrt', 'model__min_samples_leaf': 7, 'model__min_samples_split': 7, 'model__n_estimators': 75}\n"
     ]
    }
   ],
   "source": [
    "grid_search.fit(x_train,y_train)\n",
    "print(grid_search.best_score_)\n",
    "print(grid_search.best_params_)"
   ]
  },
  {
   "cell_type": "code",
   "execution_count": 81,
   "metadata": {},
   "outputs": [
    {
     "name": "stdout",
     "output_type": "stream",
     "text": [
      "0.7963345325901217\n"
     ]
    }
   ],
   "source": [
    "# Score after tunning\n",
    "best_model=grid_search.best_estimator_\n",
    "best_model.fit(x_train, y_train)\n",
    "y_predict_proba = best_model.predict_proba(x_test)[:,1]\n",
    "print(roc_auc_score(y_test,y_predict_proba))"
   ]
  },
  {
   "cell_type": "markdown",
   "metadata": {},
   "source": [
    "After model tunning, test score increase from 0.783 to 0.796"
   ]
  },
  {
   "cell_type": "markdown",
   "metadata": {},
   "source": [
    "## Feature Selection"
   ]
  },
  {
   "cell_type": "code",
   "execution_count": 82,
   "metadata": {
    "scrolled": true
   },
   "outputs": [
    {
     "data": {
      "text/html": [
       "<div>\n",
       "<style scoped>\n",
       "    .dataframe tbody tr th:only-of-type {\n",
       "        vertical-align: middle;\n",
       "    }\n",
       "\n",
       "    .dataframe tbody tr th {\n",
       "        vertical-align: top;\n",
       "    }\n",
       "\n",
       "    .dataframe thead th {\n",
       "        text-align: right;\n",
       "    }\n",
       "</style>\n",
       "<table border=\"1\" class=\"dataframe\">\n",
       "  <thead>\n",
       "    <tr style=\"text-align: right;\">\n",
       "      <th></th>\n",
       "      <th>select</th>\n",
       "    </tr>\n",
       "  </thead>\n",
       "  <tbody>\n",
       "    <tr>\n",
       "      <th>onehot__x0_Male</th>\n",
       "      <td>True</td>\n",
       "    </tr>\n",
       "    <tr>\n",
       "      <th>onehot__x1_Not provided</th>\n",
       "      <td>True</td>\n",
       "    </tr>\n",
       "    <tr>\n",
       "      <th>onehot__x1_Pvt Ltd</th>\n",
       "      <td>True</td>\n",
       "    </tr>\n",
       "    <tr>\n",
       "      <th>onehot__x2_Not provided</th>\n",
       "      <td>True</td>\n",
       "    </tr>\n",
       "    <tr>\n",
       "      <th>onehot__x2_STEM</th>\n",
       "      <td>True</td>\n",
       "    </tr>\n",
       "    <tr>\n",
       "      <th>onehot__x3_Full time course</th>\n",
       "      <td>True</td>\n",
       "    </tr>\n",
       "    <tr>\n",
       "      <th>onehot__x3_No enrollment</th>\n",
       "      <td>True</td>\n",
       "    </tr>\n",
       "    <tr>\n",
       "      <th>ordinal__relevent_experience</th>\n",
       "      <td>True</td>\n",
       "    </tr>\n",
       "    <tr>\n",
       "      <th>ordinal__education_level</th>\n",
       "      <td>True</td>\n",
       "    </tr>\n",
       "    <tr>\n",
       "      <th>ordinal__experience</th>\n",
       "      <td>True</td>\n",
       "    </tr>\n",
       "    <tr>\n",
       "      <th>ordinal__company_size</th>\n",
       "      <td>True</td>\n",
       "    </tr>\n",
       "    <tr>\n",
       "      <th>ordinal__last_new_job</th>\n",
       "      <td>True</td>\n",
       "    </tr>\n",
       "    <tr>\n",
       "      <th>city_development_index</th>\n",
       "      <td>True</td>\n",
       "    </tr>\n",
       "    <tr>\n",
       "      <th>training_hours</th>\n",
       "      <td>True</td>\n",
       "    </tr>\n",
       "  </tbody>\n",
       "</table>\n",
       "</div>"
      ],
      "text/plain": [
       "                              select\n",
       "onehot__x0_Male                 True\n",
       "onehot__x1_Not provided         True\n",
       "onehot__x1_Pvt Ltd              True\n",
       "onehot__x2_Not provided         True\n",
       "onehot__x2_STEM                 True\n",
       "onehot__x3_Full time course     True\n",
       "onehot__x3_No enrollment        True\n",
       "ordinal__relevent_experience    True\n",
       "ordinal__education_level        True\n",
       "ordinal__experience             True\n",
       "ordinal__company_size           True\n",
       "ordinal__last_new_job           True\n",
       "city_development_index          True\n",
       "training_hours                  True"
      ]
     },
     "execution_count": 82,
     "metadata": {},
     "output_type": "execute_result"
    }
   ],
   "source": [
    "x_train_preprocessed = transformer.fit_transform(x_train)\n",
    "model = RandomForestClassifier(bootstrap= True, criterion= 'gini', max_depth= None,\n",
    "                            max_features= 'sqrt', min_samples_leaf= 7, min_samples_split= 9,\n",
    "                            n_estimators= 75, class_weight='balanced')\n",
    "rfe = RFE(model)\n",
    "\n",
    "rfe.fit(x_train_preprocessed,y_train)\n",
    "features_select=pd.DataFrame({'select':rfe.support_},index=estimator.named_steps[\"preprocess\"].get_feature_names())\n",
    "features_select[features_select['select']==True]"
   ]
  },
  {
   "cell_type": "code",
   "execution_count": 83,
   "metadata": {},
   "outputs": [
    {
     "name": "stdout",
     "output_type": "stream",
     "text": [
      "0.799169801294615\n"
     ]
    }
   ],
   "source": [
    "x_test_preprocessed = transformer.transform(x_test)\n",
    "x_train_select = pd.DataFrame(rfe.transform(x_train_preprocessed),columns=features_select[features_select['select']==True].index)\n",
    "x_test_select = pd.DataFrame(rfe.transform(x_test_preprocessed),columns=features_select[features_select['select']==True].index)\n",
    "\n",
    "model.fit(x_train_select,y_train)\n",
    "y_predict_proba = model.predict_proba(x_test_select)[:,1]\n",
    "print(roc_auc_score(y_test,y_predict_proba))"
   ]
  },
  {
   "cell_type": "markdown",
   "metadata": {},
   "source": [
    "Setelah menggunakan RFE, didapat fitur-fitur yang dianggap paling penting. Kemudian dilakukan modeling menggunakan fitur tersebut didapat test score yang naik secara tidak signifikan dari 0.7976 ke 0.7991. Sehingga, diputuskan untuk menggunakan feature selection untuk memudahkan interpretasi data."
   ]
  },
  {
   "cell_type": "code",
   "execution_count": 84,
   "metadata": {
    "ExecuteTime": {
     "end_time": "2021-08-28T11:05:49.119049Z",
     "start_time": "2021-08-28T11:05:48.292411Z"
    }
   },
   "outputs": [
    {
     "data": {
      "image/png": "[encoded data removed]",
      "text/plain": [
       "<Figure size 1080x720 with 1 Axes>"
      ]
     },
     "metadata": {
      "needs_background": "light"
     },
     "output_type": "display_data"
    }
   ],
   "source": [
    "feature_names = estimator.named_steps[\"preprocess\"].get_feature_names()\n",
    "coefs = best_model.named_steps[\"model\"].feature_importances_\n",
    "zipped = zip(feature_names, coefs)\n",
    "df1 = pd.DataFrame(zipped, columns=[\"feature\", \"value\"])\n",
    "ax = df1.set_index('feature')['value'].sort_values().plot(kind='barh',figsize=(15,10))"
   ]
  },
  {
   "cell_type": "code",
   "execution_count": 85,
   "metadata": {
    "ExecuteTime": {
     "end_time": "2021-08-28T10:51:29.712670Z",
     "start_time": "2021-08-28T10:51:29.691234Z"
    }
   },
   "outputs": [
    {
     "data": {
      "text/html": [
       "<div>\n",
       "<style scoped>\n",
       "    .dataframe tbody tr th:only-of-type {\n",
       "        vertical-align: middle;\n",
       "    }\n",
       "\n",
       "    .dataframe tbody tr th {\n",
       "        vertical-align: top;\n",
       "    }\n",
       "\n",
       "    .dataframe thead th {\n",
       "        text-align: right;\n",
       "    }\n",
       "</style>\n",
       "<table border=\"1\" class=\"dataframe\">\n",
       "  <thead>\n",
       "    <tr style=\"text-align: right;\">\n",
       "      <th></th>\n",
       "      <th>index</th>\n",
       "      <th>feature</th>\n",
       "      <th>value</th>\n",
       "    </tr>\n",
       "  </thead>\n",
       "  <tbody>\n",
       "    <tr>\n",
       "      <th>0</th>\n",
       "      <td>26</td>\n",
       "      <td>city_development_index</td>\n",
       "      <td>0.395130</td>\n",
       "    </tr>\n",
       "    <tr>\n",
       "      <th>1</th>\n",
       "      <td>24</td>\n",
       "      <td>ordinal__company_size</td>\n",
       "      <td>0.128431</td>\n",
       "    </tr>\n",
       "    <tr>\n",
       "      <th>2</th>\n",
       "      <td>23</td>\n",
       "      <td>ordinal__experience</td>\n",
       "      <td>0.089591</td>\n",
       "    </tr>\n",
       "    <tr>\n",
       "      <th>3</th>\n",
       "      <td>27</td>\n",
       "      <td>training_hours</td>\n",
       "      <td>0.088344</td>\n",
       "    </tr>\n",
       "    <tr>\n",
       "      <th>4</th>\n",
       "      <td>7</td>\n",
       "      <td>onehot__x1_Not provided</td>\n",
       "      <td>0.070556</td>\n",
       "    </tr>\n",
       "    <tr>\n",
       "      <th>5</th>\n",
       "      <td>25</td>\n",
       "      <td>ordinal__last_new_job</td>\n",
       "      <td>0.037266</td>\n",
       "    </tr>\n",
       "    <tr>\n",
       "      <th>6</th>\n",
       "      <td>22</td>\n",
       "      <td>ordinal__education_level</td>\n",
       "      <td>0.029364</td>\n",
       "    </tr>\n",
       "    <tr>\n",
       "      <th>7</th>\n",
       "      <td>10</td>\n",
       "      <td>onehot__x1_Pvt Ltd</td>\n",
       "      <td>0.026346</td>\n",
       "    </tr>\n",
       "    <tr>\n",
       "      <th>8</th>\n",
       "      <td>15</td>\n",
       "      <td>onehot__x2_Not provided</td>\n",
       "      <td>0.020648</td>\n",
       "    </tr>\n",
       "    <tr>\n",
       "      <th>9</th>\n",
       "      <td>21</td>\n",
       "      <td>ordinal__relevent_experience</td>\n",
       "      <td>0.018916</td>\n",
       "    </tr>\n",
       "    <tr>\n",
       "      <th>10</th>\n",
       "      <td>18</td>\n",
       "      <td>onehot__x3_Full time course</td>\n",
       "      <td>0.017569</td>\n",
       "    </tr>\n",
       "    <tr>\n",
       "      <th>11</th>\n",
       "      <td>17</td>\n",
       "      <td>onehot__x2_STEM</td>\n",
       "      <td>0.015523</td>\n",
       "    </tr>\n",
       "    <tr>\n",
       "      <th>12</th>\n",
       "      <td>19</td>\n",
       "      <td>onehot__x3_No enrollment</td>\n",
       "      <td>0.014886</td>\n",
       "    </tr>\n",
       "    <tr>\n",
       "      <th>13</th>\n",
       "      <td>1</td>\n",
       "      <td>onehot__x0_Male</td>\n",
       "      <td>0.009475</td>\n",
       "    </tr>\n",
       "    <tr>\n",
       "      <th>14</th>\n",
       "      <td>2</td>\n",
       "      <td>onehot__x0_Not provided</td>\n",
       "      <td>0.008635</td>\n",
       "    </tr>\n",
       "    <tr>\n",
       "      <th>15</th>\n",
       "      <td>9</td>\n",
       "      <td>onehot__x1_Public Sector</td>\n",
       "      <td>0.005699</td>\n",
       "    </tr>\n",
       "    <tr>\n",
       "      <th>16</th>\n",
       "      <td>5</td>\n",
       "      <td>onehot__x1_Funded Startup</td>\n",
       "      <td>0.004248</td>\n",
       "    </tr>\n",
       "    <tr>\n",
       "      <th>17</th>\n",
       "      <td>0</td>\n",
       "      <td>onehot__x0_Female</td>\n",
       "      <td>0.003558</td>\n",
       "    </tr>\n",
       "    <tr>\n",
       "      <th>18</th>\n",
       "      <td>20</td>\n",
       "      <td>onehot__x3_Part time course</td>\n",
       "      <td>0.003340</td>\n",
       "    </tr>\n",
       "    <tr>\n",
       "      <th>19</th>\n",
       "      <td>13</td>\n",
       "      <td>onehot__x2_Humanities</td>\n",
       "      <td>0.002933</td>\n",
       "    </tr>\n",
       "    <tr>\n",
       "      <th>20</th>\n",
       "      <td>6</td>\n",
       "      <td>onehot__x1_NGO</td>\n",
       "      <td>0.002455</td>\n",
       "    </tr>\n",
       "    <tr>\n",
       "      <th>21</th>\n",
       "      <td>4</td>\n",
       "      <td>onehot__x1_Early Stage Startup</td>\n",
       "      <td>0.002130</td>\n",
       "    </tr>\n",
       "    <tr>\n",
       "      <th>22</th>\n",
       "      <td>16</td>\n",
       "      <td>onehot__x2_Other</td>\n",
       "      <td>0.001147</td>\n",
       "    </tr>\n",
       "    <tr>\n",
       "      <th>23</th>\n",
       "      <td>12</td>\n",
       "      <td>onehot__x2_Business Degree</td>\n",
       "      <td>0.001036</td>\n",
       "    </tr>\n",
       "    <tr>\n",
       "      <th>24</th>\n",
       "      <td>11</td>\n",
       "      <td>onehot__x2_Arts</td>\n",
       "      <td>0.000949</td>\n",
       "    </tr>\n",
       "    <tr>\n",
       "      <th>25</th>\n",
       "      <td>14</td>\n",
       "      <td>onehot__x2_No Major</td>\n",
       "      <td>0.000676</td>\n",
       "    </tr>\n",
       "    <tr>\n",
       "      <th>26</th>\n",
       "      <td>3</td>\n",
       "      <td>onehot__x0_Other</td>\n",
       "      <td>0.000668</td>\n",
       "    </tr>\n",
       "    <tr>\n",
       "      <th>27</th>\n",
       "      <td>8</td>\n",
       "      <td>onehot__x1_Other</td>\n",
       "      <td>0.000481</td>\n",
       "    </tr>\n",
       "  </tbody>\n",
       "</table>\n",
       "</div>"
      ],
      "text/plain": [
       "    index                         feature     value\n",
       "0      26          city_development_index  0.395130\n",
       "1      24           ordinal__company_size  0.128431\n",
       "2      23             ordinal__experience  0.089591\n",
       "3      27                  training_hours  0.088344\n",
       "4       7         onehot__x1_Not provided  0.070556\n",
       "5      25           ordinal__last_new_job  0.037266\n",
       "6      22        ordinal__education_level  0.029364\n",
       "7      10              onehot__x1_Pvt Ltd  0.026346\n",
       "8      15         onehot__x2_Not provided  0.020648\n",
       "9      21    ordinal__relevent_experience  0.018916\n",
       "10     18     onehot__x3_Full time course  0.017569\n",
       "11     17                 onehot__x2_STEM  0.015523\n",
       "12     19        onehot__x3_No enrollment  0.014886\n",
       "13      1                 onehot__x0_Male  0.009475\n",
       "14      2         onehot__x0_Not provided  0.008635\n",
       "15      9        onehot__x1_Public Sector  0.005699\n",
       "16      5       onehot__x1_Funded Startup  0.004248\n",
       "17      0               onehot__x0_Female  0.003558\n",
       "18     20     onehot__x3_Part time course  0.003340\n",
       "19     13           onehot__x2_Humanities  0.002933\n",
       "20      6                  onehot__x1_NGO  0.002455\n",
       "21      4  onehot__x1_Early Stage Startup  0.002130\n",
       "22     16                onehot__x2_Other  0.001147\n",
       "23     12      onehot__x2_Business Degree  0.001036\n",
       "24     11                 onehot__x2_Arts  0.000949\n",
       "25     14             onehot__x2_No Major  0.000676\n",
       "26      3                onehot__x0_Other  0.000668\n",
       "27      8                onehot__x1_Other  0.000481"
      ]
     },
     "execution_count": 85,
     "metadata": {},
     "output_type": "execute_result"
    }
   ],
   "source": [
    "df1.sort_values(by='value',ascending=False).reset_index()"
   ]
  },
  {
   "cell_type": "markdown",
   "metadata": {},
   "source": [
    "***\n",
    "x0 : gender (11,13,14,22)  \n",
    "x1 : company_type (7,9,15,16,18,19,25)  \n",
    "x2 : major_discipline (10,12,17,20,21,23,24)\n",
    "\n"
   ]
  },
  {
   "cell_type": "code",
   "execution_count": null,
   "metadata": {},
   "outputs": [],
   "source": []
  }
 ],
 "metadata": {
  "kernelspec": {
   "display_name": "Python 3",
   "language": "python",
   "name": "python3"
  },
  "language_info": {
   "codemirror_mode": {
    "name": "ipython",
    "version": 3
   },
   "file_extension": ".py",
   "mimetype": "text/x-python",
   "name": "python",
   "nbconvert_exporter": "python",
   "pygments_lexer": "ipython3",
   "version": "3.8.5"
  },
  "toc": {
   "base_numbering": 1,
   "nav_menu": {},
   "number_sections": true,
   "sideBar": true,
   "skip_h1_title": false,
   "title_cell": "Table of Contents",
   "title_sidebar": "Contents",
   "toc_cell": false,
   "toc_position": {},
   "toc_section_display": true,
   "toc_window_display": false
  }
 },
 "nbformat": 4,
 "nbformat_minor": 4
}
